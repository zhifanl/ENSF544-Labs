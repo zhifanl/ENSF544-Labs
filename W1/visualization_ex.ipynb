{
 "cells": [
  {
   "cell_type": "markdown",
   "metadata": {},
   "source": [
    "# Visualization\n",
    "\n",
    "## Topics\n",
    "1. Matplotlib core framework\n",
    "2. Pandas plot()\n",
    "3. Seaborn statistical visualization\n",
    "\n",
    "## Resources\n",
    "1. Ch 9 in Python for Data Analysis, 2nd Ed, Wes McKinney (UCalgary library and https://github.com/wesm/pydata-book)\n",
    "2. Ch 4 in Python Data Science Handbook, Jake VanderPlas (Ucalgary library and https://github.com/jakevdp/PythonDataScienceHandbook)\n",
    "3. Fundamentals of Data Visualization, Claus O. Wilke (Ucalgary library and https://serialmentor.com/dataviz/index.html)\n",
    "4. Overview by Jake VanderPlas https://www.youtube.com/watch?v=FytuB8nFHPQ\n"
   ]
  },
  {
   "cell_type": "markdown",
   "metadata": {},
   "source": [
    "## Matplotlib\n",
    "> Matplotlib is a Python 2D plotting library which produces publication quality figures in a variety of hardcopy formats and interactive environments across platforms.  \n",
    "Matplotlib tries to make easy things easy and hard things possible.  \n",
    "For simple plotting the pyplot module provides a MATLAB-like interface\n",
    "\n",
    "https://matplotlib.org\n",
    "\n",
    "Importing matplotlib looks like this"
   ]
  },
  {
   "cell_type": "code",
   "execution_count": null,
   "metadata": {},
   "outputs": [],
   "source": [
    "%matplotlib inline\n",
    "\n",
    "import numpy as np\n",
    "import pandas as pd\n",
    "import matplotlib as mpl\n",
    "import matplotlib.pyplot as plt\n"
   ]
  },
  {
   "cell_type": "markdown",
   "metadata": {},
   "source": [
    "### Two interfaces\n",
    "There are two ways to interact with Matplotlib: a Matlab style and an object oriented style interface.\n",
    "\n",
    "See Ch 4 in Python Data Science Handbook, Jake VanderPlas\n",
    "\n",
    "- Two Interfaces for the Price of One, pp. 222\n",
    "- Matplotlib Gotchas, pp. 232"
   ]
  },
  {
   "cell_type": "markdown",
   "metadata": {},
   "source": [
    "### Matlab style interface"
   ]
  },
  {
   "cell_type": "code",
   "execution_count": null,
   "metadata": {},
   "outputs": [],
   "source": [
    "x = np.linspace(0, 10, 100)\n",
    "\n",
    "plt.plot(x, np.sin(x), '-')\n",
    "plt.plot(x, np.cos(x), '--');"
   ]
  },
  {
   "cell_type": "markdown",
   "metadata": {},
   "source": [
    "Adding decorations to the plot is done by repeatedly calling functions on the imported `plt` module. All calls within the cell will be applied to the current figure and axes."
   ]
  },
  {
   "cell_type": "code",
   "execution_count": null,
   "metadata": {},
   "outputs": [],
   "source": [
    "plt.plot(x, np.sin(x), '-', label='sine')\n",
    "plt.plot(x, np.cos(x), '--', label ='cosine')\n",
    "\n",
    "plt.xlim([0, 10])\n",
    "plt.ylim([-1, 1])\n",
    "plt.xlabel('x')\n",
    "plt.ylabel('amplitude')\n",
    "plt.title('My sines')\n",
    "plt.grid()\n",
    "plt.legend();"
   ]
  },
  {
   "cell_type": "markdown",
   "metadata": {},
   "source": [
    "### Object oriented interface \n",
    "\n",
    "With this interface, you first create a figure and an axes object, then call their methods to change the plot."
   ]
  },
  {
   "cell_type": "code",
   "execution_count": null,
   "metadata": {},
   "outputs": [],
   "source": [
    "fig = plt.figure()\n",
    "ax = plt.axes()\n",
    "ax.plot(x, np.sin(x), '-')\n",
    "ax.plot(x, np.cos(x), '--');"
   ]
  },
  {
   "cell_type": "code",
   "execution_count": null,
   "metadata": {},
   "outputs": [],
   "source": [
    "fig = plt.figure()\n",
    "ax = plt.axes()\n",
    "ax.plot(x, np.sin(x), '-', label='sine')\n",
    "ax.plot(x, np.cos(x), '--', label ='cosine')\n",
    "\n",
    "ax.set(xlim=[0, 10], ylim=[-1, 1],\n",
    "       xlabel='x', ylabel='amplitude',\n",
    "       title='My sines');\n",
    "ax.grid()\n",
    "ax.legend();"
   ]
  },
  {
   "cell_type": "markdown",
   "metadata": {},
   "source": [
    "### Save to file \n",
    "With the figure object at hand, we can save to file"
   ]
  },
  {
   "cell_type": "code",
   "execution_count": null,
   "metadata": {},
   "outputs": [],
   "source": [
    "fig.savefig('sines.pdf')"
   ]
  },
  {
   "cell_type": "markdown",
   "metadata": {},
   "source": [
    "## Plotting with pandas\n",
    "> We use the standard convention for referencing the matplotlib API ...\n",
    "> We provide the basics in pandas to easily create decent looking plots. \n",
    "\n",
    "https://pandas.pydata.org/pandas-docs/stable/user_guide/visualization.html\n",
    "\n",
    "Let's load the heart attack dataset"
   ]
  },
  {
   "cell_type": "code",
   "execution_count": null,
   "metadata": {},
   "outputs": [],
   "source": [
    "data = pd.read_csv('heart-attack.csv', na_values='?')"
   ]
  },
  {
   "cell_type": "markdown",
   "metadata": {},
   "source": [
    "Plotting all columns, works, but does not provide a lot of insight."
   ]
  },
  {
   "cell_type": "code",
   "execution_count": null,
   "metadata": {},
   "outputs": [],
   "source": [
    "data.plot()"
   ]
  },
  {
   "cell_type": "markdown",
   "metadata": {},
   "source": [
    "Let's look at the age distribution (a histogram)"
   ]
  },
  {
   "cell_type": "code",
   "execution_count": null,
   "metadata": {
    "scrolled": true
   },
   "outputs": [],
   "source": [
    "data['age'].plot.hist();"
   ]
  },
  {
   "cell_type": "markdown",
   "metadata": {},
   "source": [
    "How many male and female samples do we have?"
   ]
  },
  {
   "cell_type": "code",
   "execution_count": null,
   "metadata": {},
   "outputs": [],
   "source": [
    "data.gender.value_counts()"
   ]
  },
  {
   "cell_type": "markdown",
   "metadata": {},
   "source": [
    "Notice that we accessed the gender column with dot notation. This can be done whenever the column name is 'nice' enough to be a python variable name."
   ]
  },
  {
   "cell_type": "markdown",
   "metadata": {},
   "source": [
    "Do we have similar ages in females and males?  \n",
    "Plotting two histograms for each gender side beside directly form the dataframe:"
   ]
  },
  {
   "cell_type": "code",
   "execution_count": null,
   "metadata": {},
   "outputs": [],
   "source": [
    "axs = data.hist(column='age', by='gender')"
   ]
  },
  {
   "cell_type": "markdown",
   "metadata": {},
   "source": [
    "To format this plot, we can work on the axes (array) that is returned by the plot call. We use Matplotlib object oriented interface methods to do this"
   ]
  },
  {
   "cell_type": "code",
   "execution_count": null,
   "metadata": {},
   "outputs": [],
   "source": [
    "axs = data.hist(column='age', by='gender')\n",
    "axs[0].set(title='female', ylim=[0, 45])\n",
    "axs[1].set(title='male', ylim=[0, 45]);"
   ]
  },
  {
   "cell_type": "markdown",
   "metadata": {},
   "source": [
    "Is age and blood pressure correlated? Maybe it is different for females and males?  \n",
    "Let's have a look with a scatter plot."
   ]
  },
  {
   "cell_type": "code",
   "execution_count": null,
   "metadata": {},
   "outputs": [],
   "source": [
    "data.plot.scatter('age', 'trestbps', c='gender', colormap='winter');"
   ]
  },
  {
   "cell_type": "markdown",
   "metadata": {},
   "source": [
    "According to:  \n",
    "https://stackoverflow.com/questions/43578976/pandas-missing-x-tick-labels\n",
    "\n",
    "the missing x-labels are a pandas bug.\n",
    "\n",
    "Workaround is to create axes prior to calling plot"
   ]
  },
  {
   "cell_type": "code",
   "execution_count": null,
   "metadata": {},
   "outputs": [],
   "source": [
    "fig, ax = plt.subplots()\n",
    "data.plot.scatter('age', 'trestbps', c='gender', colormap='viridis', ax=ax);"
   ]
  },
  {
   "cell_type": "markdown",
   "metadata": {},
   "source": [
    "It is a bit annoying that there is a colorbar, we know gender is categorical.\n",
    "\n",
    "One way to avoid the colorbar is to loop over the categories and assign colors based on the category.\n",
    "\n",
    "See:\n",
    "https://stackoverflow.com/questions/26139423/plot-different-color-for-different-categorical-levels-using-matplotlib"
   ]
  },
  {
   "cell_type": "code",
   "execution_count": null,
   "metadata": {},
   "outputs": [],
   "source": [
    "colors = {0: 'tab:blue', 1: 'tab:orange'}\n",
    "fig, ax = plt.subplots()\n",
    "for key, group in data.groupby(by='gender'):\n",
    "    group.plot.scatter('age', 'trestbps', c=colors[key], label=key, ax=ax);"
   ]
  },
  {
   "cell_type": "markdown",
   "metadata": {},
   "source": [
    "## Seaborn \n",
    ">Seaborn is a Python data visualization library based on matplotlib. It provides a high-level interface for drawing attractive and informative statistical graphics.\n",
    "\n",
    "http://seaborn.pydata.org/index.html\n",
    "\n",
    "Seaborn is usually imported as `sns`"
   ]
  },
  {
   "cell_type": "code",
   "execution_count": null,
   "metadata": {},
   "outputs": [],
   "source": [
    "import seaborn as sns"
   ]
  },
  {
   "cell_type": "markdown",
   "metadata": {},
   "source": [
    "Let's re-create the histograms by gender with seaborn with the figure level `displot()` function."
   ]
  },
  {
   "cell_type": "code",
   "execution_count": null,
   "metadata": {},
   "outputs": [],
   "source": [
    "# Use gender to split age into columns\n",
    "sns.displot(x='age', col='gender', data=data);"
   ]
  },
  {
   "cell_type": "markdown",
   "metadata": {},
   "source": [
    "We can display the counts in the same plot, one on top of the other."
   ]
  },
  {
   "cell_type": "code",
   "execution_count": null,
   "metadata": {},
   "outputs": [],
   "source": [
    "# Use gender to color (hue) in the same plot\n",
    "sns.displot(x='age', hue='gender', data=data);"
   ]
  },
  {
   "cell_type": "markdown",
   "metadata": {},
   "source": [
    "To have an idea of the split between male and female, we can stack the counts, adding up to total."
   ]
  },
  {
   "cell_type": "code",
   "execution_count": null,
   "metadata": {},
   "outputs": [],
   "source": [
    "sns.displot(x='age', hue='gender', data=data, multiple='stack');"
   ]
  },
  {
   "cell_type": "markdown",
   "metadata": {},
   "source": [
    "We can look at the differences in ages with a boxplot too"
   ]
  },
  {
   "cell_type": "code",
   "execution_count": null,
   "metadata": {},
   "outputs": [],
   "source": [
    "sns.boxplot(x='gender', y='age', data=data);"
   ]
  },
  {
   "cell_type": "markdown",
   "metadata": {},
   "source": [
    "Let's re-create the scatter plot to see if age and blood pressure are correlated by gender.\n",
    "\n",
    "To make the legend show strings we will create a gender string column with female and male strings rather than 0 and 1."
   ]
  },
  {
   "cell_type": "code",
   "execution_count": null,
   "metadata": {},
   "outputs": [],
   "source": [
    "data['gender_str'] = data['gender'].replace([0, 1], ['female', 'male'])"
   ]
  },
  {
   "cell_type": "code",
   "execution_count": null,
   "metadata": {},
   "outputs": [],
   "source": [
    "ax = sns.scatterplot(x='age', y='trestbps', data=data, hue='gender_str')"
   ]
  },
  {
   "cell_type": "markdown",
   "metadata": {},
   "source": [
    "Adding a regression line helps with visualizing the relationship"
   ]
  },
  {
   "cell_type": "code",
   "execution_count": null,
   "metadata": {},
   "outputs": [],
   "source": [
    "ax = sns.lmplot(x='age', y='trestbps', data=data, hue='gender_str')"
   ]
  },
  {
   "cell_type": "markdown",
   "metadata": {},
   "source": [
    "Maybe there are other correlations in the data set. Pairplot is a great way to get an overview"
   ]
  },
  {
   "cell_type": "code",
   "execution_count": null,
   "metadata": {},
   "outputs": [],
   "source": [
    "sns.pairplot(data, vars=['age', 'trestbps', 'chol', 'thalach'], hue='gender_str');"
   ]
  },
  {
   "cell_type": "markdown",
   "metadata": {},
   "source": [
    "As an alternative, we can visualize the correlation matrix as a heatmap"
   ]
  },
  {
   "cell_type": "code",
   "execution_count": null,
   "metadata": {},
   "outputs": [],
   "source": [
    "g = sns.heatmap(data[['age', 'trestbps', 'chol', 'thalach']].corr(method='spearman'), \n",
    "            annot=True)"
   ]
  },
  {
   "cell_type": "markdown",
   "metadata": {},
   "source": [
    "There are additional tutorials on the Seaborn website, be sure to check these out."
   ]
  }
 ],
 "metadata": {
  "@webio": {
   "lastCommId": null,
   "lastKernelId": null
  },
  "kernelspec": {
   "display_name": "Python 3 (ipykernel)",
   "language": "python",
   "name": "python3"
  },
  "language_info": {
   "codemirror_mode": {
    "name": "ipython",
    "version": 3
   },
   "file_extension": ".py",
   "mimetype": "text/x-python",
   "name": "python",
   "nbconvert_exporter": "python",
   "pygments_lexer": "ipython3",
   "version": "3.11.5"
  }
 },
 "nbformat": 4,
 "nbformat_minor": 4
}
