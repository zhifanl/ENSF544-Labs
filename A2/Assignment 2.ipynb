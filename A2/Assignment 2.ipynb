{
 "cells": [
  {
   "cell_type": "markdown",
   "id": "92778525",
   "metadata": {},
   "source": [
    "# Assignment 2: Linear Models and Validation Metrics (40 marks total)\n",
    "### Due: February 13 at 11:59pm\n",
    "\n",
    "### Name: "
   ]
  },
  {
   "cell_type": "markdown",
   "id": "ce31b39a",
   "metadata": {},
   "source": [
    "### In this assignment, you will need to write code that uses linear models to perform classification and regression tasks. You will also be asked to describe the process by which you came up with the code. More details can be found below. Please cite any websites or AI tools that you used to help you with this assignment."
   ]
  },
  {
   "cell_type": "markdown",
   "id": "f7c6de86",
   "metadata": {},
   "source": [
    "## Part 1: Classification (20 marks)\n",
    "\n",
    "You have been asked to develop code that can help the user determine if the email they have received is spam or not. Following the machine learning workflow described in class, write the relevant code in each of the steps below:"
   ]
  },
  {
   "cell_type": "markdown",
   "id": "cf275ca7",
   "metadata": {},
   "source": [
    "### Step 0: Import Libraries"
   ]
  },
  {
   "cell_type": "code",
   "execution_count": 11,
   "id": "2b67a661",
   "metadata": {},
   "outputs": [],
   "source": [
    "import numpy as np\n",
    "import pandas as pd\n",
    "import matplotlib.pyplot as plt\n",
    "import seaborn as sns\n",
    "import yellowbrick"
   ]
  },
  {
   "cell_type": "markdown",
   "id": "5f9d33a8",
   "metadata": {},
   "source": [
    "### Step 1: Data Input (1 mark)\n",
    "\n",
    "The data used for this task can be downloaded using the yellowbrick library: \n",
    "https://www.scikit-yb.org/en/latest/api/datasets/spam.html\n",
    "\n",
    "Use the yellowbrick function `load_spam()` to load the spam dataset into the feature matrix `X` and target vector `y`.\n",
    "\n",
    "Print the size and type of `X` and `y`."
   ]
  },
  {
   "cell_type": "code",
   "execution_count": 12,
   "id": "33583c67",
   "metadata": {},
   "outputs": [
    {
     "name": "stdout",
     "output_type": "stream",
     "text": [
      "(4600, 57)\n",
      "(4600,)\n",
      "***************************\n",
      "262200\n",
      "<class 'pandas.core.frame.DataFrame'>\n",
      "4600\n",
      "<class 'pandas.core.series.Series'>\n"
     ]
    }
   ],
   "source": [
    "# TO DO: Import spam dataset from yellowbrick library (0.5 marks)\n",
    "from yellowbrick import datasets\n",
    "X, y= datasets.load_spam()\n",
    "print(X.shape)\n",
    "# print(X.describe)\n",
    "\n",
    "\n",
    "print(y.shape)\n",
    "# print(y.describe)\n",
    "\n",
    "\n",
    "# TO DO: Print size and type of X and y (0.5 marks)\n",
    "print(\"***************************\")\n",
    "print(X.size)\n",
    "print(type(X))\n",
    "\n",
    "print(y.size)\n",
    "print(type(y))\n"
   ]
  },
  {
   "cell_type": "markdown",
   "id": "156db208",
   "metadata": {},
   "source": [
    "### Step 2: Data Processing (2 marks)\n",
    "\n",
    "Check to see if there are any missing values in the dataset. If necessary, select an appropriate method to fill-in the missing values."
   ]
  },
  {
   "cell_type": "code",
   "execution_count": 13,
   "id": "4e7204f5",
   "metadata": {},
   "outputs": [
    {
     "name": "stdout",
     "output_type": "stream",
     "text": [
      "word_freq_make                0\n",
      "word_freq_address             0\n",
      "word_freq_all                 0\n",
      "word_freq_3d                  0\n",
      "word_freq_our                 0\n",
      "word_freq_over                0\n",
      "word_freq_remove              0\n",
      "word_freq_internet            0\n",
      "word_freq_order               0\n",
      "word_freq_mail                0\n",
      "word_freq_receive             0\n",
      "word_freq_will                0\n",
      "word_freq_people              0\n",
      "word_freq_report              0\n",
      "word_freq_addresses           0\n",
      "word_freq_free                0\n",
      "word_freq_business            0\n",
      "word_freq_email               0\n",
      "word_freq_you                 0\n",
      "word_freq_credit              0\n",
      "word_freq_your                0\n",
      "word_freq_font                0\n",
      "word_freq_000                 0\n",
      "word_freq_money               0\n",
      "word_freq_hp                  0\n",
      "word_freq_hpl                 0\n",
      "word_freq_george              0\n",
      "word_freq_650                 0\n",
      "word_freq_lab                 0\n",
      "word_freq_labs                0\n",
      "word_freq_telnet              0\n",
      "word_freq_857                 0\n",
      "word_freq_data                0\n",
      "word_freq_415                 0\n",
      "word_freq_85                  0\n",
      "word_freq_technology          0\n",
      "word_freq_1999                0\n",
      "word_freq_parts               0\n",
      "word_freq_pm                  0\n",
      "word_freq_direct              0\n",
      "word_freq_cs                  0\n",
      "word_freq_meeting             0\n",
      "word_freq_original            0\n",
      "word_freq_project             0\n",
      "word_freq_re                  0\n",
      "word_freq_edu                 0\n",
      "word_freq_table               0\n",
      "word_freq_conference          0\n",
      "char_freq_;                   0\n",
      "char_freq_(                   0\n",
      "char_freq_[                   0\n",
      "char_freq_!                   0\n",
      "char_freq_$                   0\n",
      "char_freq_#                   0\n",
      "capital_run_length_average    0\n",
      "capital_run_length_longest    0\n",
      "capital_run_length_total      0\n",
      "dtype: int64\n",
      "0\n"
     ]
    }
   ],
   "source": [
    "# TO DO: Check if there are any missing values and fill them in if necessary (1 mark)\n",
    "print(X.isnull().sum())\n",
    "\n",
    "print(y.isnull().sum())"
   ]
  },
  {
   "cell_type": "markdown",
   "id": "a489285a",
   "metadata": {},
   "source": [
    "For this task, we want to test if the linear model would still work if we used less data. Use the `train_test_split` function from sklearn to create a new feature matrix named `X_small` and a new target vector named `y_small` that contain **3%** of the data."
   ]
  },
  {
   "cell_type": "code",
   "execution_count": 14,
   "id": "f9bc4a23",
   "metadata": {},
   "outputs": [],
   "source": [
    "# TO DO: Create X_small and y_small (1 mark)\n",
    "from sklearn.model_selection import train_test_split\n",
    "X_small, X_test_small, y_small, y_test_small = train_test_split(X, y, test_size=0.97, random_state=0)\n",
    "# print(X_small.describe)\n",
    "# print(y_small.describe)"
   ]
  },
  {
   "cell_type": "markdown",
   "id": "70e6c46f",
   "metadata": {},
   "source": [
    "### Step 3: Implement Machine Learning Model\n",
    "\n",
    "1. Import `LogisticRegression` from sklearn\n",
    "2. Instantiate model `LogisticRegression(max_iter=2000)`\n",
    "3. Implement the machine learning model with three different datasets: \n",
    "    - `X` and `y`\n",
    "    - Only first two columns of `X` and `y`\n",
    "    - `X_small` and `y_small`"
   ]
  },
  {
   "cell_type": "code",
   "execution_count": 15,
   "metadata": {},
   "outputs": [],
   "source": [
    "from sklearn.linear_model import LogisticRegression\n",
    "\n",
    "model = LogisticRegression(max_iter=2000)"
   ]
  },
  {
   "cell_type": "code",
   "execution_count": 16,
   "metadata": {},
   "outputs": [],
   "source": [
    "X_large, X_test_large, y_large, y_test_large = train_test_split(X, y, random_state=0)\n",
    "model_1 = LogisticRegression(max_iter=2000)\n",
    "lr_1 = model_1.fit(X_large, y_large)\n",
    "linear_predictions_1= model_1.predict(X_test_large)"
   ]
  },
  {
   "cell_type": "code",
   "execution_count": 17,
   "metadata": {},
   "outputs": [
    {
     "data": {
      "text/html": [
       "<div>\n",
       "<style scoped>\n",
       "    .dataframe tbody tr th:only-of-type {\n",
       "        vertical-align: middle;\n",
       "    }\n",
       "\n",
       "    .dataframe tbody tr th {\n",
       "        vertical-align: top;\n",
       "    }\n",
       "\n",
       "    .dataframe thead th {\n",
       "        text-align: right;\n",
       "    }\n",
       "</style>\n",
       "<table border=\"1\" class=\"dataframe\">\n",
       "  <thead>\n",
       "    <tr style=\"text-align: right;\">\n",
       "      <th></th>\n",
       "      <th>word_freq_make</th>\n",
       "      <th>word_freq_address</th>\n",
       "    </tr>\n",
       "  </thead>\n",
       "  <tbody>\n",
       "    <tr>\n",
       "      <th>0</th>\n",
       "      <td>0.21</td>\n",
       "      <td>0.28</td>\n",
       "    </tr>\n",
       "    <tr>\n",
       "      <th>1</th>\n",
       "      <td>0.06</td>\n",
       "      <td>0.00</td>\n",
       "    </tr>\n",
       "    <tr>\n",
       "      <th>2</th>\n",
       "      <td>0.00</td>\n",
       "      <td>0.00</td>\n",
       "    </tr>\n",
       "    <tr>\n",
       "      <th>3</th>\n",
       "      <td>0.00</td>\n",
       "      <td>0.00</td>\n",
       "    </tr>\n",
       "    <tr>\n",
       "      <th>4</th>\n",
       "      <td>0.00</td>\n",
       "      <td>0.00</td>\n",
       "    </tr>\n",
       "    <tr>\n",
       "      <th>...</th>\n",
       "      <td>...</td>\n",
       "      <td>...</td>\n",
       "    </tr>\n",
       "    <tr>\n",
       "      <th>4595</th>\n",
       "      <td>0.31</td>\n",
       "      <td>0.00</td>\n",
       "    </tr>\n",
       "    <tr>\n",
       "      <th>4596</th>\n",
       "      <td>0.00</td>\n",
       "      <td>0.00</td>\n",
       "    </tr>\n",
       "    <tr>\n",
       "      <th>4597</th>\n",
       "      <td>0.30</td>\n",
       "      <td>0.00</td>\n",
       "    </tr>\n",
       "    <tr>\n",
       "      <th>4598</th>\n",
       "      <td>0.96</td>\n",
       "      <td>0.00</td>\n",
       "    </tr>\n",
       "    <tr>\n",
       "      <th>4599</th>\n",
       "      <td>0.00</td>\n",
       "      <td>0.00</td>\n",
       "    </tr>\n",
       "  </tbody>\n",
       "</table>\n",
       "<p>4600 rows × 2 columns</p>\n",
       "</div>"
      ],
      "text/plain": [
       "      word_freq_make  word_freq_address\n",
       "0               0.21               0.28\n",
       "1               0.06               0.00\n",
       "2               0.00               0.00\n",
       "3               0.00               0.00\n",
       "4               0.00               0.00\n",
       "...              ...                ...\n",
       "4595            0.31               0.00\n",
       "4596            0.00               0.00\n",
       "4597            0.30               0.00\n",
       "4598            0.96               0.00\n",
       "4599            0.00               0.00\n",
       "\n",
       "[4600 rows x 2 columns]"
      ]
     },
     "execution_count": 17,
     "metadata": {},
     "output_type": "execute_result"
    }
   ],
   "source": [
    "X.iloc[:, :2]"
   ]
  },
  {
   "cell_type": "code",
   "execution_count": 18,
   "metadata": {},
   "outputs": [
    {
     "name": "stdout",
     "output_type": "stream",
     "text": [
      "      word_freq_make  word_freq_address\n",
      "321             0.00               0.62\n",
      "118             0.00               0.55\n",
      "261             0.00               0.00\n",
      "598             0.90               0.00\n",
      "1770            0.00               0.96\n",
      "...              ...                ...\n",
      "1033            0.27               0.00\n",
      "3264            0.49               0.00\n",
      "1653            0.00               0.00\n",
      "2607            0.00               0.00\n",
      "2732            0.00               0.20\n",
      "\n",
      "[3450 rows x 2 columns]\n",
      "      word_freq_make  word_freq_address\n",
      "991             0.00                0.0\n",
      "2824            1.16                0.0\n",
      "1906            0.00                0.0\n",
      "1471            0.00                0.0\n",
      "1813            0.00                0.0\n",
      "...              ...                ...\n",
      "196             0.17                0.0\n",
      "4315            0.00                0.0\n",
      "4550            0.00                0.0\n",
      "2941            0.00                0.0\n",
      "3987            0.00                0.0\n",
      "\n",
      "[1150 rows x 2 columns]\n",
      "321     1\n",
      "118     1\n",
      "261     1\n",
      "598     1\n",
      "1770    1\n",
      "       ..\n",
      "1033    1\n",
      "3264    0\n",
      "1653    1\n",
      "2607    0\n",
      "2732    0\n",
      "Name: is_spam, Length: 3450, dtype: int64\n",
      "991     1\n",
      "2824    0\n",
      "1906    0\n",
      "1471    1\n",
      "1813    0\n",
      "       ..\n",
      "196     1\n",
      "4315    0\n",
      "4550    0\n",
      "2941    0\n",
      "3987    0\n",
      "Name: is_spam, Length: 1150, dtype: int64\n"
     ]
    }
   ],
   "source": [
    "X_two_columns, X_test_two_columns, y_two_columns, y_test_two_columns = train_test_split(X.iloc[:, :2], y, random_state=0)\n",
    "\n",
    "print(X_two_columns)\n",
    "print(X_test_two_columns)\n",
    "\n",
    "print(y_two_columns)\n",
    "print(y_test_two_columns)\n",
    "\n",
    "model_2 = LogisticRegression(max_iter=2000)\n",
    "\n",
    "lr_2 = model_2.fit(X_two_columns, y_two_columns)\n",
    "\n",
    "linear_predictions_2 = lr_2.predict(X_test_two_columns)"
   ]
  },
  {
   "cell_type": "code",
   "execution_count": 19,
   "metadata": {},
   "outputs": [],
   "source": [
    "model_3 = LogisticRegression(max_iter=2000)\n",
    "\n",
    "lr_3 = model_3.fit(X_small, y_small)\n",
    "\n",
    "linear_predictions_3 = lr_3.predict(X_test_small)"
   ]
  },
  {
   "cell_type": "markdown",
   "id": "0870b0d2",
   "metadata": {},
   "source": [
    "### Step 4: Validate Model \n",
    "\n",
    "Calculate the training and validation accuracy for the three different tests implemented in Step 3"
   ]
  },
  {
   "cell_type": "code",
   "execution_count": 20,
   "metadata": {},
   "outputs": [
    {
     "name": "stdout",
     "output_type": "stream",
     "text": [
      "Mean Absolute Error 0.06260869565217392\n",
      "Root Mean Squared Error 0.2502172968684897\n",
      "lr.coef_:  [[-3.89249025e-01 -1.66420232e-01  1.77377083e-01  8.82788585e-01\n",
      "   5.23397196e-01  8.27890062e-01  2.10056267e+00  5.32431596e-01\n",
      "   6.33173016e-01  5.18289806e-02 -4.57228924e-01 -1.94759526e-01\n",
      "   2.13738814e-01  6.95840745e-02  1.17194923e+00  1.18694442e+00\n",
      "   8.60245216e-01  1.30482602e-01  9.01654954e-02  9.03683679e-01\n",
      "   1.84898819e-01  1.13171255e-01  1.92364428e+00  3.06842212e-01\n",
      "  -1.59228844e+00 -9.43918351e-01 -3.21063942e+00  4.24873649e-01\n",
      "  -1.31902939e+00 -1.50364327e-01 -1.65211277e+00  4.87187488e-02\n",
      "  -8.67339128e-01  1.48754156e-01 -1.54055052e+00  7.90789563e-01\n",
      "  -3.94247944e-02  1.13617558e-01 -7.27370741e-01 -8.03309657e-01\n",
      "  -1.38628505e+00 -1.85409115e+00 -6.25363189e-01 -1.23137543e+00\n",
      "  -7.19625885e-01 -1.54716905e+00 -6.21389400e-01 -1.60561177e+00\n",
      "  -9.92885186e-01 -1.83752190e-02 -6.46502275e-01  2.54256192e-01\n",
      "   3.14277111e+00  1.09094818e+00  2.22469973e-01  4.69244325e-03\n",
      "   5.37827869e-04]]\n",
      "lr.intercept_:  [-1.85979563]\n",
      "Training score: 0.93\n",
      "Validation score: 0.94\n"
     ]
    }
   ],
   "source": [
    "from sklearn.metrics import mean_squared_error, mean_absolute_error\n",
    "\n",
    "linear_mae_1 = mean_absolute_error(y_test_large, linear_predictions_1)\n",
    "linear_rmae_1 = np.sqrt(mean_squared_error(y_test_large, linear_predictions_1))\n",
    "\n",
    "print(f\"Mean Absolute Error {linear_mae_1}\")\n",
    "print(f\"Root Mean Squared Error {linear_rmae_1}\")\n",
    "\n",
    "\n",
    "print(\"lr.coef_: \", lr_1.coef_)\n",
    "print(\"lr.intercept_: \", lr_1.intercept_)\n",
    "print(\"Training score: {:.2f}\".format(lr_1.score(X_large, y_large)))\n",
    "print(\"Validation score: {:.2f}\".format(lr_1.score(X_test_large, y_test_large)))"
   ]
  },
  {
   "cell_type": "code",
   "execution_count": 21,
   "metadata": {},
   "outputs": [
    {
     "name": "stdout",
     "output_type": "stream",
     "text": [
      "Mean Absolute Error 0.3869565217391304\n",
      "Root Mean Squared Error 0.6220582944862406\n",
      "lr.coef_:  [[ 0.76818503 -0.05128518]]\n",
      "lr.intercept_:  [-0.51083079]\n",
      "Training score: 0.61\n",
      "Validation score: 0.61\n"
     ]
    }
   ],
   "source": [
    "from sklearn.metrics import mean_squared_error, mean_absolute_error\n",
    "\n",
    "linear_mae_2 = mean_absolute_error(y_test_two_columns, linear_predictions_2)\n",
    "linear_rmae_2 = np.sqrt(mean_squared_error(y_test_two_columns, linear_predictions_2))\n",
    "\n",
    "print(f\"Mean Absolute Error {linear_mae_2}\")\n",
    "print(f\"Root Mean Squared Error {linear_rmae_2}\")\n",
    "\n",
    "\n",
    "print(\"lr.coef_: \", lr_2.coef_)\n",
    "print(\"lr.intercept_: \", lr_2.intercept_)\n",
    "print(\"Training score: {:.2f}\".format(lr_2.score(X_two_columns, y_two_columns)))\n",
    "print(\"Validation score: {:.2f}\".format(lr_2.score(X_test_two_columns, y_test_two_columns)))"
   ]
  },
  {
   "cell_type": "code",
   "execution_count": 22,
   "metadata": {},
   "outputs": [
    {
     "name": "stdout",
     "output_type": "stream",
     "text": [
      "Mean Absolute Error 0.09300761990138952\n",
      "Root Mean Squared Error 0.3049715067041338\n",
      "lr.coef_:  [[-4.71827835e-01 -1.79465240e-01 -1.42978569e-01  0.00000000e+00\n",
      "   6.78255736e-01  1.18576272e-01  9.88469394e-01  5.86769189e-01\n",
      "   7.93244899e-01 -5.19767406e-01  4.14747681e-02  9.28666234e-02\n",
      "   1.86657682e-02 -4.03197820e-02  4.37868893e-01  1.01300031e+00\n",
      "   6.94446247e-01  8.29146051e-01  2.90477030e-01  6.10793241e-01\n",
      "  -7.91009982e-02  2.43330876e-01  6.23662743e-01  1.17415295e+00\n",
      "  -1.28725123e+00 -4.11386667e-01 -6.84587353e-01 -2.36807266e-01\n",
      "  -2.10528482e-01 -2.26290418e-01 -2.38798180e-01 -1.44246532e-02\n",
      "  -5.57771572e-01 -1.44246532e-02 -1.83058860e-01  3.03453312e-01\n",
      "  -4.57279635e-01  2.21747653e-01 -3.98497925e-02 -1.40587621e-02\n",
      "  -2.65424587e-01 -6.32292119e-01 -7.30699819e-02 -4.58577872e-01\n",
      "  -3.75435017e-01 -3.64614589e-01 -4.38164220e-02 -5.70960323e-02\n",
      "  -1.37645129e-01 -1.66794006e-01 -1.36755460e-01  1.21497550e+00\n",
      "   6.76131614e-01 -1.54771282e-02  4.95205673e-01 -3.67951885e-03\n",
      "   5.63813389e-04]]\n",
      "lr.intercept_:  [-2.66073878]\n",
      "Training score: 0.96\n",
      "Validation score: 0.91\n"
     ]
    }
   ],
   "source": [
    "from sklearn.metrics import mean_squared_error, mean_absolute_error\n",
    "\n",
    "linear_mae_3 = mean_absolute_error(y_test_small, linear_predictions_3)\n",
    "linear_rmae_3 = np.sqrt(mean_squared_error(y_test_small, linear_predictions_3))\n",
    "\n",
    "print(f\"Mean Absolute Error {linear_mae_3}\")\n",
    "print(f\"Root Mean Squared Error {linear_rmae_3}\")\n",
    "\n",
    "\n",
    "print(\"lr.coef_: \", lr_3.coef_)\n",
    "print(\"lr.intercept_: \", lr_3.intercept_)\n",
    "print(\"Training score: {:.2f}\".format(lr_3.score(X_small, y_small)))\n",
    "print(\"Validation score: {:.2f}\".format(lr_3.score(X_test_small, y_test_small)))"
   ]
  },
  {
   "cell_type": "markdown",
   "id": "bb0bbd83",
   "metadata": {},
   "source": [
    "### Step 5.1: Visualize Results (4 marks)\n",
    "\n",
    "1. Create a pandas DataFrame `results` with columns: Data size, training accuracy, validation accuracy\n",
    "2. Add the data size, training and validation accuracy for each dataset to the `results` DataFrame\n",
    "3. Print `results`"
   ]
  },
  {
   "cell_type": "code",
   "execution_count": 23,
   "id": "be4b5c0a",
   "metadata": {},
   "outputs": [
    {
     "name": "stdout",
     "output_type": "stream",
     "text": [
      "   Data size  Training Accuracy  Validation Accuracy\n",
      "0       3450           0.928696             0.937391\n",
      "1       3450           0.608406             0.613043\n",
      "2        138           0.963768             0.906992\n"
     ]
    }
   ],
   "source": [
    "# TO DO: ADD YOUR CODE HERE FOR STEPS 3-5\n",
    "# Note: for any random state parameters, you can use random_state = 0\n",
    "# HINT: USING A LOOP TO STORE THE DATA IN YOUR RESULTS DATAFRAME WILL BE MORE EFFICIENT\n",
    "import pandas as pd\n",
    "\n",
    "training_score_1 = lr_1.score(X_large, y_large)\n",
    "validation_score_1 = lr_1.score(X_test_large, y_test_large)\n",
    "results = pd.DataFrame(columns=[\"Data size\", \"Training Accuracy\", \"Validation Accuracy\"])\n",
    "\n",
    "results.loc[len(results)]= {\"Data size\": len(X_large), \"Training Accuracy\": training_score_1, \"Validation Accuracy\": validation_score_1}\n",
    "\n",
    "training_score_2 = lr_2.score(X_two_columns, y_two_columns)\n",
    "validation_score_2 = lr_2.score(X_test_two_columns, y_test_two_columns)\n",
    "results.loc[len(results)] = {\"Data size\": len(X_two_columns), \"Training Accuracy\": training_score_2, \"Validation Accuracy\": validation_score_2}\n",
    "\n",
    "training_score_3 = lr_3.score(X_small, y_small)\n",
    "validation_score_3 = lr_3.score(X_test_small, y_test_small)\n",
    "results.loc[len(results)] = {\"Data size\": len(X_small), \"Training Accuracy\": training_score_3, \"Validation Accuracy\": validation_score_3}\n",
    "\n",
    "print(results)\n"
   ]
  },
  {
   "cell_type": "markdown",
   "id": "cf13a54f",
   "metadata": {},
   "source": [
    "### Step 5.2: Visualize Classification Errors (3 marks)"
   ]
  },
  {
   "cell_type": "markdown",
   "id": "6022252f",
   "metadata": {},
   "source": [
    "In this section, print the confusion matrix and the classification report to investigate the number of false positives vs. false negatives. Use the full dataset for this analysis"
   ]
  },
  {
   "cell_type": "code",
   "execution_count": 24,
   "id": "81931e5f",
   "metadata": {},
   "outputs": [],
   "source": [
    "# TO DO: Retrieve target vector and predicted values for validation set using full dataset \n",
    "from sklearn.metrics import confusion_matrix\n",
    "\n",
    "# Create confusion matrices for the RF model\n",
    "cm_rf = confusion_matrix(y_test_large, linear_predictions_1)\n"
   ]
  },
  {
   "cell_type": "code",
   "execution_count": 25,
   "id": "e4cb30f1",
   "metadata": {},
   "outputs": [
    {
     "data": {
      "image/png": "[encoded data removed]",
      "text/plain": [
       "<Figure size 1000x500 with 2 Axes>"
      ]
     },
     "metadata": {},
     "output_type": "display_data"
    }
   ],
   "source": [
    "# TO DO: Print confusion matrix using a heatmap\n",
    "# HINT: To remove scientific notation from a heatmap, set the parameter fmt='d'\n",
    "# Set up the figure size using subplots\n",
    "fig, axes = plt.subplots(figsize = (10,5))\n",
    "# Create a heatmap for Random Forest\n",
    "sns.heatmap(cm_rf, annot=True, fmt = 'd', cmap='Blues', ax=axes)\n",
    "axes.set_title(\"Confusion Matrix\")\n",
    "axes.set_xlabel(\"Predicted\")\n",
    "axes.set_ylabel(\"Actual\")\n",
    "\n",
    "plt.show()"
   ]
  },
  {
   "cell_type": "code",
   "execution_count": 26,
   "id": "0bfb397c",
   "metadata": {},
   "outputs": [
    {
     "name": "stdout",
     "output_type": "stream",
     "text": [
      "              precision    recall  f1-score   support\n",
      "\n",
      "           0       0.94      0.95      0.95       692\n",
      "           1       0.93      0.91      0.92       458\n",
      "\n",
      "    accuracy                           0.94      1150\n",
      "   macro avg       0.94      0.93      0.93      1150\n",
      "weighted avg       0.94      0.94      0.94      1150\n",
      "\n"
     ]
    }
   ],
   "source": [
    "# TO DO: Print classification report\n",
    "from sklearn.metrics import classification_report\n",
    "print(classification_report(y_test_large, linear_predictions_1,\n",
    "                           zero_division=0))"
   ]
  },
  {
   "cell_type": "markdown",
   "metadata": {},
   "source": [
    "Mean Absolute Error 0.06260869565217392\n",
    "Root Mean Squared Error 0.2502172968684897\n",
    "lr.intercept_:  [-1.85979563]\n",
    "Training score: 0.93\n",
    "Validation score: 0.94\n",
    "\n",
    "\n",
    "\n",
    "Mean Absolute Error 0.3869565217391304\n",
    "Root Mean Squared Error 0.6220582944862406\n",
    "lr.coef_:  [[ 0.76818503 -0.05128518]]\n",
    "lr.intercept_:  [-0.51083079]\n",
    "Training score: 0.61\n",
    "Validation score: 0.61\n",
    "\n",
    "\n",
    "Mean Absolute Error 0.09300761990138952\n",
    "Root Mean Squared Error 0.3049715067041338\n",
    "lr.intercept_:  [-2.66073878]\n",
    "Training score: 0.96\n",
    "Validation score: 0.91"
   ]
  },
  {
   "cell_type": "markdown",
   "id": "bf319621",
   "metadata": {},
   "source": [
    "### Questions (6 marks)\n",
    "1. How do the training and validation accuracy change depending on the amount of data used? Explain with values.\n",
    "1. In this case, what do a false positive and a false negative represent? Which one is worse?\n",
    "1. Based on your answer to question 2, would you want to maximize precision or recall? How would you do this?\n",
    "\n",
    "*ANSWER HERE*\n",
    "\n",
    "1. \n",
    "- training set with full dataset X and y:\n",
    "The training score is 0.93, and the validation score is 0.94. This means the model performs well on both the training and unseen data, means a good model and generalizes well.\n",
    "- training set with first two columns from X:\n",
    "training and testing are both 0.61, the reduction limits the model to get the variance, model has high biases and low variance. The model is underfitting, meaning it is too simple and does not capture the underlying patterns in the data well.\n",
    "- training set with 97% training data and 3% testing data:\n",
    "Using a small portion of the data as the testing set, makes the training score increases to 0.96, but the validation score decreases to 0.91 compared to using the full dataset. The high training score suggests that with less data to validate, the model can fit the training data better, but the slight decrease in validation score might indicate that the model has less data to validate its predictions, which could potentially lead to overfitting.\n",
    "\n",
    "2. False positive means model predicts 1, but actual value is 0. false negative means model predicts 0, but actual is 1. In my opinion false negative is worse. Because if the model fails to predict a spam. the spam content will be actually released. false positive will not let spam be released even the model censors non-spam contents. (False positives are more undesirable because you can potentially miss a very important email. You need to increase precision.)\n",
    "\n",
    "3. I would like to maximize precision because we want to have more positive results. Recall is the ratio of true positive predictions to true positives and false negatives. To do it, I could adjust the model's threshold to be more lenient in classifying positives, ensuring fewer false negatives.\n"
   ]
  },
  {
   "cell_type": "markdown",
   "id": "664ff8ae",
   "metadata": {},
   "source": [
    "### Process Description (4 marks)\n",
    "Please describe the process you used to create your code. Cite any websites or generative AI tools used. You can use the following questions as guidance:\n",
    "1. Where did you source your code?\n",
    "1. In what order did you complete the steps?\n",
    "1. If you used generative AI, what prompts did you use? Did you need to modify the code at all? Why or why not?\n",
    "1. Did you have any challenges? If yes, what were they? If not, what helped you to be successful?"
   ]
  },
  {
   "cell_type": "markdown",
   "id": "d0e837da",
   "metadata": {},
   "source": [
    "*DESCRIBE YOUR PROCESS HERE - BE SPECIFIC*\n",
    "\n",
    "1. Where did you source your code?\n",
    "- Based on lecture materials and labs.\n",
    "1. In what order did you complete the steps?\n",
    "- Try to come up with solutions by myself. If I see challenges. Ex: cannot memorize a function's parameters, or don't know which method to use, I will google or go to lecture code examples.\n",
    "1. If you used generative AI, what prompts did you use? Did you need to modify the code at all? Why or why not?\n",
    "- I ask specific questions, not copy and paste the content to the AI. Yes I need to modify the code to help me memorize what it does. then next time I don't need to ask ai.\n",
    "1. Did you have any challenges? If yes, what were they? If not, what helped you to be successful?\n",
    "- I had challenges classifying recall and precision so I asked AI to generate some study material for me. At the end I know how to classify them and how to adjust based on requirements."
   ]
  },
  {
   "cell_type": "markdown",
   "id": "5ee2d2c3",
   "metadata": {},
   "source": [
    "## Part 2: Regression (15 marks)\n",
    "\n",
    "For this section, we will be evaluating concrete compressive strength of different concrete samples, based on age and ingredients. You will need to repeat the steps from Part 1 for this analysis."
   ]
  },
  {
   "cell_type": "markdown",
   "id": "8219f163",
   "metadata": {},
   "source": [
    "### Step 1: Data Input (1 mark)\n",
    "\n",
    "The data used for this task can be downloaded using the yellowbrick library: \n",
    "https://www.scikit-yb.org/en/latest/api/datasets/concrete.html\n",
    "\n",
    "Use the yellowbrick function `load_concrete()` to load the spam dataset into the feature matrix `X` and target vector `y`.\n",
    "\n",
    "Print the size and type of `X` and `y`."
   ]
  },
  {
   "cell_type": "code",
   "execution_count": 27,
   "id": "2af8bd32",
   "metadata": {},
   "outputs": [
    {
     "name": "stdout",
     "output_type": "stream",
     "text": [
      "(1030, 8)\n",
      "<bound method NDFrame.describe of       cement   slag    ash  water  splast  coarse   fine  age\n",
      "0      540.0    0.0    0.0  162.0     2.5  1040.0  676.0   28\n",
      "1      540.0    0.0    0.0  162.0     2.5  1055.0  676.0   28\n",
      "2      332.5  142.5    0.0  228.0     0.0   932.0  594.0  270\n",
      "3      332.5  142.5    0.0  228.0     0.0   932.0  594.0  365\n",
      "4      198.6  132.4    0.0  192.0     0.0   978.4  825.5  360\n",
      "...      ...    ...    ...    ...     ...     ...    ...  ...\n",
      "1025   276.4  116.0   90.3  179.6     8.9   870.1  768.3   28\n",
      "1026   322.2    0.0  115.6  196.0    10.4   817.9  813.4   28\n",
      "1027   148.5  139.4  108.6  192.7     6.1   892.4  780.0   28\n",
      "1028   159.1  186.7    0.0  175.6    11.3   989.6  788.9   28\n",
      "1029   260.9  100.5   78.3  200.6     8.6   864.5  761.5   28\n",
      "\n",
      "[1030 rows x 8 columns]>\n",
      "(1030,)\n",
      "<bound method NDFrame.describe of 0       79.986111\n",
      "1       61.887366\n",
      "2       40.269535\n",
      "3       41.052780\n",
      "4       44.296075\n",
      "          ...    \n",
      "1025    44.284354\n",
      "1026    31.178794\n",
      "1027    23.696601\n",
      "1028    32.768036\n",
      "1029    32.401235\n",
      "Name: strength, Length: 1030, dtype: float64>\n",
      "***************************\n",
      "8240\n",
      "<class 'pandas.core.frame.DataFrame'>\n",
      "1030\n",
      "<class 'pandas.core.series.Series'>\n"
     ]
    }
   ],
   "source": [
    "# TO DO: Import concrete dataset from yellowbrick library (0.5 marks)\n",
    "from yellowbrick import datasets\n",
    "X, y= datasets.load_concrete()\n",
    "# TO DO: Print size and type of X and y (0.5 marks)\n",
    "print(X.shape)\n",
    "print(X.describe)\n",
    "\n",
    "print(y.shape)\n",
    "print(y.describe)\n",
    "# TO DO: Print size and type of X and y (0.5 marks)\n",
    "print(\"***************************\")\n",
    "\n",
    "print(X.size)\n",
    "print(type(X))\n",
    "\n",
    "print(y.size)\n",
    "print(type(y))"
   ]
  },
  {
   "cell_type": "markdown",
   "id": "42fea4cc",
   "metadata": {},
   "source": [
    "### Step 2: Data Processing (1 mark)\n",
    "\n",
    "Check to see if there are any missing values in the dataset. If necessary, select an appropriate method to fill-in the missing values."
   ]
  },
  {
   "cell_type": "code",
   "execution_count": 28,
   "id": "06fc9c0f",
   "metadata": {},
   "outputs": [
    {
     "name": "stdout",
     "output_type": "stream",
     "text": [
      "cement    0\n",
      "slag      0\n",
      "ash       0\n",
      "water     0\n",
      "splast    0\n",
      "coarse    0\n",
      "fine      0\n",
      "age       0\n",
      "dtype: int64\n",
      "0\n"
     ]
    }
   ],
   "source": [
    "# TO DO: Check if there are any missing values and fill them in if necessary\n",
    "print(X.isnull().sum())\n",
    "\n",
    "print(y.isnull().sum())"
   ]
  },
  {
   "cell_type": "markdown",
   "id": "2a245d00",
   "metadata": {},
   "source": [
    "### Step 3: Implement Machine Learning Model (2 marks)\n",
    "\n",
    "1. Import `LinearRegression` from sklearn\n",
    "2. Instantiate model `LinearRegression()`\n",
    "3. Implement the machine learning model with `X` and `y`"
   ]
  },
  {
   "cell_type": "code",
   "execution_count": 29,
   "id": "ba4da0b9",
   "metadata": {},
   "outputs": [],
   "source": [
    "# TO DO: ADD YOUR CODE HERE\n",
    "# Note: for any random state parameters, you can use random_state = 0\n",
    "from sklearn.linear_model import LinearRegression\n",
    "\n",
    "model = LinearRegression()\n",
    "X_train, X_test, y_train, y_test = train_test_split(X, y, train_size=0.8, random_state=0)\n",
    "lr_2 = model.fit(X_train, y_train)\n",
    "linear_predictions_2 = lr_2.predict(X_test)"
   ]
  },
  {
   "cell_type": "markdown",
   "id": "3f994e31",
   "metadata": {},
   "source": [
    "### Step 4: Validate Model (2 marks)\n",
    "\n",
    "Calculate the training and validation accuracy using mean squared error and R2 score."
   ]
  },
  {
   "cell_type": "code",
   "execution_count": 30,
   "id": "fdc93a78",
   "metadata": {},
   "outputs": [
    {
     "name": "stdout",
     "output_type": "stream",
     "text": [
      "Mean Absolute Error 7.8652986058082055\n",
      "Root Mean Squared Error 9.779332023553767\n",
      "Training score: 0.61\n",
      "Validation score: 0.64\n"
     ]
    }
   ],
   "source": [
    "# TO DO: ADD YOUR CODE HERE\n",
    "\n",
    "linear_mae_2 = mean_absolute_error(y_test, linear_predictions_2)\n",
    "linear_rmae_2 = np.sqrt(mean_squared_error(y_test, linear_predictions_2))\n",
    "\n",
    "print(f\"Mean Absolute Error {linear_mae_2}\")\n",
    "print(f\"Root Mean Squared Error {linear_rmae_2}\")\n",
    "\n",
    "print(\"Training score: {:.2f}\".format(lr_2.score(X_train, y_train)))\n",
    "print(\"Validation score: {:.2f}\".format(lr_2.score(X_test, y_test)))"
   ]
  },
  {
   "cell_type": "markdown",
   "id": "5fc3f7a8",
   "metadata": {},
   "source": [
    "### Step 5: Visualize Results (1 mark)\n",
    "\n",
    "1. Create a pandas DataFrame `results` with columns: Training accuracy and Validation accuracy, and index: MSE and R2 score\n",
    "2. Add the accuracy results to the `results` DataFrame\n",
    "3. Print `results`"
   ]
  },
  {
   "cell_type": "code",
   "execution_count": 31,
   "id": "59ae0f09",
   "metadata": {},
   "outputs": [
    {
     "name": "stdout",
     "output_type": "stream",
     "text": [
      "   Training accuracy  Validation accuracy       MSE        R2\n",
      "0           0.609071             0.636898  7.865299  9.779332\n"
     ]
    }
   ],
   "source": [
    "# TO DO: ADD YOUR CODE HERE\n",
    "data = {\n",
    "    'Training accuracy': [lr_2.score(X_train, y_train)],\n",
    "    'Validation accuracy': [lr_2.score(X_test, y_test)],\n",
    "    'MSE': [linear_mae_2],\n",
    "    'R2': [linear_rmae_2]\n",
    "}\n",
    "\n",
    "results = pd.DataFrame(data)\n",
    "\n",
    "print(results)"
   ]
  },
  {
   "cell_type": "markdown",
   "id": "a5257a98",
   "metadata": {},
   "source": [
    "### Questions (4 marks)\n",
    "1. Did using a linear model produce good results for this dataset? Why or why not?\n",
    "1. Could we tell if this model was a good fit by using just the mean squared error? Why or why not?\n",
    "\n",
    "*ANSWER HERE*\n",
    "\n",
    "1. It doesn't produce good result. The model is not the right model. MSE, R Square are way off from what we expect. I suspect there are noises in the data set. \n",
    "2. We cannot, MSE does not indicate how much of the variance in the target variable the model accounts for. MSE is highly sensitive to outliers because it squares the errors. "
   ]
  },
  {
   "cell_type": "markdown",
   "id": "37b238f4",
   "metadata": {},
   "source": [
    "### Process Description (4 marks)\n",
    "Please describe the process you used to create your code. Cite any websites or generative AI tools used. You can use the following questions as guidance:\n",
    "1. Where did you source your code?\n",
    "1. In what order did you complete the steps?\n",
    "1. If you used generative AI, what prompts did you use? Did you need to modify the code at all? Why or why not?\n",
    "1. Did you have any challenges? If yes, what were they? If not, what helped you to be successful?"
   ]
  },
  {
   "cell_type": "markdown",
   "id": "93097bfe",
   "metadata": {},
   "source": [
    "*DESCRIBE YOUR PROCESS HERE - BE SPECIFIC*\n",
    "1. Where did you source your code?\n",
    "- Based on the previous Question 1's code.\n",
    "1. In what order did you complete the steps?\n",
    "- Try to come up with solutions by myself. For example, try to implement a ML model and do some prediction then evaluate the model based on several scores. I met challenges. Ex: I forgot why MSE shouldn't be the only metric to evaluate model is good fit or not. I google it and ask AI to give me more details.\n",
    "1. If you used generative AI, what prompts did you use? Did you need to modify the code at all? Why or why not?\n",
    "- I ask specific questions, not copy and paste the content to the AI. I ask AI to teach me the concepts so that I can grasp it. I didn't modify code because I didn't put any code in the AI. I tried to do things by myself this time.\n",
    "1. Did you have any challenges? If yes, what were they? If not, what helped you to be successful?\n",
    "- I had challenges with linear regression model. I was surprised by MSE, R2, and the score. so I asked AI to generate some potential reasons for me. At the end I know what are the factors that could cause this issue."
   ]
  },
  {
   "cell_type": "markdown",
   "id": "4cd7358d",
   "metadata": {},
   "source": [
    "## Part 3: Observations/Interpretation (3 marks)\n",
    "\n",
    "Describe any pattern you see in the results. Relate your findings to what we discussed during lectures. Include data to justify your findings.\n",
    "\n",
    "\n",
    "*ADD YOUR FINDINGS HERE*\n",
    "\n",
    "low training score & low validation score (0.61 & 0.62) means underfitting and low variance. Need more data and more variance. \n",
    "\n",
    "validation score goes down probably indicates a potential of overfitting and need more test data to validate score.\n",
    "\n",
    "maximizing precision means reducing false positive\n",
    "\n",
    "maximizing recall means reducing false negative\n",
    "\n",
    "To get higher precision rate, one strategy is to train model to treat positive data leniently, to make more data positive.\n",
    "\n",
    "sometimes noises & outliers in the dataset could significantly impact MSE. Cannot evaluate a model only based on MSE. A model could have a high MSE if it fails to predict outliers accurately, even if it performs well for the majority of the data."
   ]
  },
  {
   "cell_type": "markdown",
   "id": "cd97b6ac",
   "metadata": {},
   "source": [
    "## Part 4: Reflection (2 marks)\n",
    "Include a sentence or two about:\n",
    "- what you liked or disliked,\n",
    "- found interesting, confusing, challangeing, motivating\n",
    "while working on this assignment.\n",
    "\n",
    "\n",
    "*ADD YOUR THOUGHTS HERE*\n",
    "\n",
    "Working on this assignment, I found the process of exploring ML concepts and breaking them down into understandable explanations particularly motivating and interesting. I learned a lot and memorized lots of concepts by doing this assignment."
   ]
  }
 ],
 "metadata": {
  "kernelspec": {
   "display_name": "Python 3 (ipykernel)",
   "language": "python",
   "name": "python3"
  },
  "language_info": {
   "codemirror_mode": {
    "name": "ipython",
    "version": 3
   },
   "file_extension": ".py",
   "mimetype": "text/x-python",
   "name": "python",
   "nbconvert_exporter": "python",
   "pygments_lexer": "ipython3",
   "version": "3.8.18"
  }
 },
 "nbformat": 4,
 "nbformat_minor": 5
}
