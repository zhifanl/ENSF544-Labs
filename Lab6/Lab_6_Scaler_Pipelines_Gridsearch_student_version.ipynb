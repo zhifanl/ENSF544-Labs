{
  "cells": [
    {
      "cell_type": "code",
      "execution_count": 1,
      "metadata": {
        "id": "BnK4-olP-aWG"
      },
      "outputs": [],
      "source": [
        "import pandas as pd\n",
        "import numpy as np\n",
        "import matplotlib.pyplot as plt\n",
        "import seaborn as sns\n",
        "from sklearn.model_selection import train_test_split, GridSearchCV, cross_val_score\n",
        "from sklearn.preprocessing import StandardScaler, LabelEncoder\n",
        "from sklearn.pipeline import Pipeline\n",
        "from sklearn.ensemble import RandomForestClassifier\n",
        "from sklearn.linear_model import LogisticRegression\n",
        "from sklearn.svm import SVC\n",
        "from sklearn.metrics import make_scorer, accuracy_score, f1_score\n"
      ]
    },
    {
      "cell_type": "markdown",
      "metadata": {
        "id": "7GAtJKev-3gd"
      },
      "source": [
        "### Dataset\n",
        "\n",
        "Either download the dataset from Kaggle ([link](https://www.kaggle.com/competitions/titanic/data?select=train.csv)) and use the train.csv or import it with the following line:"
      ]
    },
    {
      "cell_type": "code",
      "execution_count": 2,
      "metadata": {
        "id": "gVPXZT6D-zKb"
      },
      "outputs": [
        {
          "name": "stdout",
          "output_type": "stream",
          "text": [
            "zsh:1: no matches found: https://www.dropbox.com/scl/fi/eqqo8uun7lxs0qnzq0por/train.csv?rlkey=lf7t3dnwdfkjyvi2z574xkz5j\n"
          ]
        }
      ],
      "source": [
        "!wget -O titanic.csv https://www.dropbox.com/scl/fi/eqqo8uun7lxs0qnzq0por/train.csv?rlkey=lf7t3dnwdfkjyvi2z574xkz5j&dl=0"
      ]
    },
    {
      "cell_type": "code",
      "execution_count": 3,
      "metadata": {
        "id": "kvJMm9Fn9Nhw"
      },
      "outputs": [
        {
          "data": {
            "text/html": [
              "<div>\n",
              "<style scoped>\n",
              "    .dataframe tbody tr th:only-of-type {\n",
              "        vertical-align: middle;\n",
              "    }\n",
              "\n",
              "    .dataframe tbody tr th {\n",
              "        vertical-align: top;\n",
              "    }\n",
              "\n",
              "    .dataframe thead th {\n",
              "        text-align: right;\n",
              "    }\n",
              "</style>\n",
              "<table border=\"1\" class=\"dataframe\">\n",
              "  <thead>\n",
              "    <tr style=\"text-align: right;\">\n",
              "      <th></th>\n",
              "      <th>PassengerId</th>\n",
              "      <th>Survived</th>\n",
              "      <th>Pclass</th>\n",
              "      <th>Age</th>\n",
              "      <th>SibSp</th>\n",
              "      <th>Parch</th>\n",
              "      <th>Fare</th>\n",
              "    </tr>\n",
              "  </thead>\n",
              "  <tbody>\n",
              "    <tr>\n",
              "      <th>count</th>\n",
              "      <td>891.000000</td>\n",
              "      <td>891.000000</td>\n",
              "      <td>891.000000</td>\n",
              "      <td>714.000000</td>\n",
              "      <td>891.000000</td>\n",
              "      <td>891.000000</td>\n",
              "      <td>891.000000</td>\n",
              "    </tr>\n",
              "    <tr>\n",
              "      <th>mean</th>\n",
              "      <td>446.000000</td>\n",
              "      <td>0.383838</td>\n",
              "      <td>2.308642</td>\n",
              "      <td>29.699118</td>\n",
              "      <td>0.523008</td>\n",
              "      <td>0.381594</td>\n",
              "      <td>32.204208</td>\n",
              "    </tr>\n",
              "    <tr>\n",
              "      <th>std</th>\n",
              "      <td>257.353842</td>\n",
              "      <td>0.486592</td>\n",
              "      <td>0.836071</td>\n",
              "      <td>14.526497</td>\n",
              "      <td>1.102743</td>\n",
              "      <td>0.806057</td>\n",
              "      <td>49.693429</td>\n",
              "    </tr>\n",
              "    <tr>\n",
              "      <th>min</th>\n",
              "      <td>1.000000</td>\n",
              "      <td>0.000000</td>\n",
              "      <td>1.000000</td>\n",
              "      <td>0.420000</td>\n",
              "      <td>0.000000</td>\n",
              "      <td>0.000000</td>\n",
              "      <td>0.000000</td>\n",
              "    </tr>\n",
              "    <tr>\n",
              "      <th>25%</th>\n",
              "      <td>223.500000</td>\n",
              "      <td>0.000000</td>\n",
              "      <td>2.000000</td>\n",
              "      <td>20.125000</td>\n",
              "      <td>0.000000</td>\n",
              "      <td>0.000000</td>\n",
              "      <td>7.910400</td>\n",
              "    </tr>\n",
              "    <tr>\n",
              "      <th>50%</th>\n",
              "      <td>446.000000</td>\n",
              "      <td>0.000000</td>\n",
              "      <td>3.000000</td>\n",
              "      <td>28.000000</td>\n",
              "      <td>0.000000</td>\n",
              "      <td>0.000000</td>\n",
              "      <td>14.454200</td>\n",
              "    </tr>\n",
              "    <tr>\n",
              "      <th>75%</th>\n",
              "      <td>668.500000</td>\n",
              "      <td>1.000000</td>\n",
              "      <td>3.000000</td>\n",
              "      <td>38.000000</td>\n",
              "      <td>1.000000</td>\n",
              "      <td>0.000000</td>\n",
              "      <td>31.000000</td>\n",
              "    </tr>\n",
              "    <tr>\n",
              "      <th>max</th>\n",
              "      <td>891.000000</td>\n",
              "      <td>1.000000</td>\n",
              "      <td>3.000000</td>\n",
              "      <td>80.000000</td>\n",
              "      <td>8.000000</td>\n",
              "      <td>6.000000</td>\n",
              "      <td>512.329200</td>\n",
              "    </tr>\n",
              "  </tbody>\n",
              "</table>\n",
              "</div>"
            ],
            "text/plain": [
              "       PassengerId    Survived      Pclass         Age       SibSp  \\\n",
              "count   891.000000  891.000000  891.000000  714.000000  891.000000   \n",
              "mean    446.000000    0.383838    2.308642   29.699118    0.523008   \n",
              "std     257.353842    0.486592    0.836071   14.526497    1.102743   \n",
              "min       1.000000    0.000000    1.000000    0.420000    0.000000   \n",
              "25%     223.500000    0.000000    2.000000   20.125000    0.000000   \n",
              "50%     446.000000    0.000000    3.000000   28.000000    0.000000   \n",
              "75%     668.500000    1.000000    3.000000   38.000000    1.000000   \n",
              "max     891.000000    1.000000    3.000000   80.000000    8.000000   \n",
              "\n",
              "            Parch        Fare  \n",
              "count  891.000000  891.000000  \n",
              "mean     0.381594   32.204208  \n",
              "std      0.806057   49.693429  \n",
              "min      0.000000    0.000000  \n",
              "25%      0.000000    7.910400  \n",
              "50%      0.000000   14.454200  \n",
              "75%      0.000000   31.000000  \n",
              "max      6.000000  512.329200  "
            ]
          },
          "execution_count": 3,
          "metadata": {},
          "output_type": "execute_result"
        }
      ],
      "source": [
        "# Load the Titanic dataset (assuming you have the dataset CSV file)\n",
        "titanic_df = pd.read_csv('./train.csv')\n",
        "titanic_df.describe()"
      ]
    },
    {
      "cell_type": "code",
      "execution_count": 4,
      "metadata": {
        "id": "in7Ap8UlB-XJ"
      },
      "outputs": [
        {
          "data": {
            "text/plain": [
              "PassengerId     0.000000\n",
              "Survived        0.000000\n",
              "Pclass          0.000000\n",
              "Name            0.000000\n",
              "Sex             0.000000\n",
              "Age            19.865320\n",
              "SibSp           0.000000\n",
              "Parch           0.000000\n",
              "Ticket          0.000000\n",
              "Fare            0.000000\n",
              "Cabin          77.104377\n",
              "Embarked        0.224467\n",
              "dtype: float64"
            ]
          },
          "execution_count": 4,
          "metadata": {},
          "output_type": "execute_result"
        }
      ],
      "source": [
        "# Count the percentage of missing values in each column\n",
        "missing_percentages = titanic_df.isnull().mean() * 100\n",
        "missing_percentages"
      ]
    },
    {
      "cell_type": "code",
      "execution_count": 5,
      "metadata": {
        "id": "U33nVMC5DC7b"
      },
      "outputs": [],
      "source": [
        "# select only the following features and save the new dataset into titanic_df\n",
        "# [['Pclass', 'Sex', 'Age', 'SibSp', 'Parch', 'Fare', 'Survived']]\n",
        "titanic_df_new = titanic_df.drop(columns=[\"PassengerId\", \"Name\", \"Ticket\", \"Cabin\", \"Embarked\"])\n",
        "\n",
        "titanic_df_new\n",
        "\n",
        "# drop all nulls\n",
        "titanic_df_new.dropna(inplace=True)\n"
      ]
    },
    {
      "cell_type": "code",
      "execution_count": 6,
      "metadata": {
        "id": "WY-kT9MmDJBr"
      },
      "outputs": [
        {
          "data": {
            "text/html": [
              "<div>\n",
              "<style scoped>\n",
              "    .dataframe tbody tr th:only-of-type {\n",
              "        vertical-align: middle;\n",
              "    }\n",
              "\n",
              "    .dataframe tbody tr th {\n",
              "        vertical-align: top;\n",
              "    }\n",
              "\n",
              "    .dataframe thead th {\n",
              "        text-align: right;\n",
              "    }\n",
              "</style>\n",
              "<table border=\"1\" class=\"dataframe\">\n",
              "  <thead>\n",
              "    <tr style=\"text-align: right;\">\n",
              "      <th></th>\n",
              "      <th>Survived</th>\n",
              "      <th>Pclass</th>\n",
              "      <th>Age</th>\n",
              "      <th>SibSp</th>\n",
              "      <th>Parch</th>\n",
              "      <th>Fare</th>\n",
              "      <th>Sex_male</th>\n",
              "    </tr>\n",
              "  </thead>\n",
              "  <tbody>\n",
              "    <tr>\n",
              "      <th>0</th>\n",
              "      <td>0</td>\n",
              "      <td>3</td>\n",
              "      <td>22.0</td>\n",
              "      <td>1</td>\n",
              "      <td>0</td>\n",
              "      <td>7.2500</td>\n",
              "      <td>True</td>\n",
              "    </tr>\n",
              "    <tr>\n",
              "      <th>1</th>\n",
              "      <td>1</td>\n",
              "      <td>1</td>\n",
              "      <td>38.0</td>\n",
              "      <td>1</td>\n",
              "      <td>0</td>\n",
              "      <td>71.2833</td>\n",
              "      <td>False</td>\n",
              "    </tr>\n",
              "    <tr>\n",
              "      <th>2</th>\n",
              "      <td>1</td>\n",
              "      <td>3</td>\n",
              "      <td>26.0</td>\n",
              "      <td>0</td>\n",
              "      <td>0</td>\n",
              "      <td>7.9250</td>\n",
              "      <td>False</td>\n",
              "    </tr>\n",
              "    <tr>\n",
              "      <th>3</th>\n",
              "      <td>1</td>\n",
              "      <td>1</td>\n",
              "      <td>35.0</td>\n",
              "      <td>1</td>\n",
              "      <td>0</td>\n",
              "      <td>53.1000</td>\n",
              "      <td>False</td>\n",
              "    </tr>\n",
              "    <tr>\n",
              "      <th>4</th>\n",
              "      <td>0</td>\n",
              "      <td>3</td>\n",
              "      <td>35.0</td>\n",
              "      <td>0</td>\n",
              "      <td>0</td>\n",
              "      <td>8.0500</td>\n",
              "      <td>True</td>\n",
              "    </tr>\n",
              "    <tr>\n",
              "      <th>...</th>\n",
              "      <td>...</td>\n",
              "      <td>...</td>\n",
              "      <td>...</td>\n",
              "      <td>...</td>\n",
              "      <td>...</td>\n",
              "      <td>...</td>\n",
              "      <td>...</td>\n",
              "    </tr>\n",
              "    <tr>\n",
              "      <th>885</th>\n",
              "      <td>0</td>\n",
              "      <td>3</td>\n",
              "      <td>39.0</td>\n",
              "      <td>0</td>\n",
              "      <td>5</td>\n",
              "      <td>29.1250</td>\n",
              "      <td>False</td>\n",
              "    </tr>\n",
              "    <tr>\n",
              "      <th>886</th>\n",
              "      <td>0</td>\n",
              "      <td>2</td>\n",
              "      <td>27.0</td>\n",
              "      <td>0</td>\n",
              "      <td>0</td>\n",
              "      <td>13.0000</td>\n",
              "      <td>True</td>\n",
              "    </tr>\n",
              "    <tr>\n",
              "      <th>887</th>\n",
              "      <td>1</td>\n",
              "      <td>1</td>\n",
              "      <td>19.0</td>\n",
              "      <td>0</td>\n",
              "      <td>0</td>\n",
              "      <td>30.0000</td>\n",
              "      <td>False</td>\n",
              "    </tr>\n",
              "    <tr>\n",
              "      <th>889</th>\n",
              "      <td>1</td>\n",
              "      <td>1</td>\n",
              "      <td>26.0</td>\n",
              "      <td>0</td>\n",
              "      <td>0</td>\n",
              "      <td>30.0000</td>\n",
              "      <td>True</td>\n",
              "    </tr>\n",
              "    <tr>\n",
              "      <th>890</th>\n",
              "      <td>0</td>\n",
              "      <td>3</td>\n",
              "      <td>32.0</td>\n",
              "      <td>0</td>\n",
              "      <td>0</td>\n",
              "      <td>7.7500</td>\n",
              "      <td>True</td>\n",
              "    </tr>\n",
              "  </tbody>\n",
              "</table>\n",
              "<p>714 rows × 7 columns</p>\n",
              "</div>"
            ],
            "text/plain": [
              "     Survived  Pclass   Age  SibSp  Parch     Fare  Sex_male\n",
              "0           0       3  22.0      1      0   7.2500      True\n",
              "1           1       1  38.0      1      0  71.2833     False\n",
              "2           1       3  26.0      0      0   7.9250     False\n",
              "3           1       1  35.0      1      0  53.1000     False\n",
              "4           0       3  35.0      0      0   8.0500      True\n",
              "..        ...     ...   ...    ...    ...      ...       ...\n",
              "885         0       3  39.0      0      5  29.1250     False\n",
              "886         0       2  27.0      0      0  13.0000      True\n",
              "887         1       1  19.0      0      0  30.0000     False\n",
              "889         1       1  26.0      0      0  30.0000      True\n",
              "890         0       3  32.0      0      0   7.7500      True\n",
              "\n",
              "[714 rows x 7 columns]"
            ]
          },
          "execution_count": 6,
          "metadata": {},
          "output_type": "execute_result"
        }
      ],
      "source": [
        "# Convert categorical variables (e.g., 'Sex') to numerical using one-hot encoding\n",
        "titanic_df = pd.get_dummies(titanic_df_new, columns=['Sex'], drop_first=True)\n",
        "titanic_df"
      ]
    },
    {
      "cell_type": "code",
      "execution_count": 7,
      "metadata": {
        "id": "st8JjLZKB9t6"
      },
      "outputs": [
        {
          "data": {
            "image/png": "[encoded data removed]",
            "text/plain": [
              "<Figure size 640x480 with 2 Axes>"
            ]
          },
          "metadata": {},
          "output_type": "display_data"
        }
      ],
      "source": [
        "# Visualize the correlation between numerical variables\n",
        "sns.heatmap(titanic_df.corr(), annot=True, cmap='coolwarm')\n",
        "plt.title('Correlation Heatmap')\n",
        "plt.show()"
      ]
    },
    {
      "cell_type": "code",
      "execution_count": 8,
      "metadata": {
        "id": "QtXHd-rR9Nb_"
      },
      "outputs": [],
      "source": [
        "# Define 'X' and 'y'\n",
        "X = titanic_df.drop(columns=['Survived'])  # 'X' contains all features except 'Survived'\n",
        "y = titanic_df['Survived']  # 'y' contains the 'Survived' column\n",
        "\n",
        "\n",
        "# Create a train_test_split and use 20% for testing\n",
        "X_train, X_test, y_train, y_test = train_test_split(X,y,test_size=0.2, random_state=42)\n"
      ]
    },
    {
      "cell_type": "code",
      "execution_count": 9,
      "metadata": {
        "id": "rNVQN-7h-jpt"
      },
      "outputs": [
        {
          "name": "stdout",
          "output_type": "stream",
          "text": [
            "Random Forest Results:\n",
            "Accuracy scores: [0.83716247 0.82315789 0.82666667 0.83366895 0.83016018 0.82842105\n",
            " 0.82138825 0.82138825 0.82138825]\n",
            "F1 scores: [0.78591473 0.76741455 0.77256922 0.78808219 0.78379731 0.78094773\n",
            " 0.77358537 0.77667972 0.77071608]\n",
            "\n",
            "Best Parameters for Random Forest based on F1: {'classifier__max_depth': 10, 'classifier__n_estimators': 100}\n",
            "-------------------------------------------------------------------\n",
            "\n",
            "Logistic Regression Results:\n",
            "Accuracy scores: [0.79687262 0.798627   0.80739893 0.81089245 0.81264683 0.81440122]\n",
            "F1 scores: [0.74542357 0.74110637 0.75639261 0.75960233 0.76242365 0.76419145]\n",
            "\n",
            "Best Parameters for Logistic Regression based on F1: {'classifier__C': 10, 'classifier__penalty': 'l1', 'classifier__solver': 'saga'}\n",
            "-------------------------------------------------------------------\n",
            "\n",
            "SVM Results:\n",
            "Accuracy scores: [0.79162471 0.8056598  0.79162471 0.81967963 0.79162471 0.83540809]\n",
            "F1 scores: [0.72962373 0.74354068 0.72962373 0.76344627 0.72962373 0.79578341]\n",
            "\n",
            "Best Parameters for SVM based on F1: {'classifier__C': 10, 'classifier__kernel': 'rbf'}\n"
          ]
        }
      ],
      "source": [
        "\n",
        "# Random Forest Pipeline\n",
        "rf_pipeline = Pipeline([\n",
        "    ('scaler', StandardScaler()),\n",
        "    ('classifier', RandomForestClassifier())\n",
        "])\n",
        "\n",
        "# Create Logistic Regression Pipeline\n",
        "lr_pipeline = Pipeline([\n",
        "    ('scaler', StandardScaler()),\n",
        "    ('classifier', LogisticRegression())\n",
        "])\n",
        "\n",
        "# Create SVM Pipeline\n",
        "svm_pipeline = Pipeline([\n",
        "    ('scaler', StandardScaler()),\n",
        "    ('classifier', SVC())\n",
        "])\n",
        "\n",
        "\n",
        "\n",
        "# Define parameter grids (Do not change these parameters)\n",
        "param_grid_rf = {\n",
        "    'classifier__n_estimators': [100, 200, 300],\n",
        "    'classifier__max_depth': [5, 10, 15]\n",
        "}\n",
        "\n",
        "param_grid_lr = {\n",
        "    'classifier__C': [0.1, 1, 10],\n",
        "    'classifier__penalty': ['l1'],  # Use 'l1' penalty\n",
        "    'classifier__solver': ['liblinear', 'saga']  # Choose an appropriate solver\n",
        "}\n",
        "\n",
        "param_grid_svm = {\n",
        "    'classifier__C': [0.1, 1, 10],\n",
        "    'classifier__kernel': ['linear', 'rbf']\n",
        "}\n",
        "\n",
        "# Define the scoring metrics you want to use\n",
        "scoring = {\n",
        "    'accuracy': make_scorer(accuracy_score),\n",
        "    'f1_score': make_scorer(f1_score)\n",
        "}\n",
        "\n",
        "# Create GridSearchCV instances for each algorithm with multiple scoring metrics\n",
        "grid_search_rf = GridSearchCV(rf_pipeline, param_grid_rf, cv=5, scoring=scoring, refit='f1_score')\n",
        "grid_search_lr =  GridSearchCV(lr_pipeline, param_grid_lr, cv=5, scoring=scoring, refit='f1_score')\n",
        "grid_search_svm =  GridSearchCV(svm_pipeline, param_grid_svm, cv=5, scoring=scoring, refit='f1_score')\n",
        "\n",
        "# Fit the models using the grid_search\n",
        "grid_search_rf.fit(X_train, y_train)\n",
        "grid_search_lr.fit(X_train, y_train)\n",
        "grid_search_svm.fit(X_train, y_train)\n",
        "\n",
        "# Get the best parameters based on F1\n",
        "best_params_rf = grid_search_rf.best_params_\n",
        "best_params_lr = grid_search_lr.best_params_\n",
        "best_params_svm = grid_search_svm.best_params_\n",
        "\n",
        "# Access the results for both scoring metrics\n",
        "results_rf = grid_search_rf.cv_results_\n",
        "results_lr = grid_search_lr.cv_results_\n",
        "results_svm= grid_search_svm.cv_results_\n",
        "\n",
        "# Print the results for accuracy and F1\n",
        "print(\"Random Forest Results:\")\n",
        "print(\"Accuracy scores:\", results_rf['mean_test_accuracy'])\n",
        "print(\"F1 scores:\", results_rf['mean_test_f1_score'])\n",
        "print(\"\\nBest Parameters for Random Forest based on F1:\", best_params_rf)\n",
        "\n",
        "print(\"-------------------------------------------------------------------\")\n",
        "\n",
        "print(\"\\nLogistic Regression Results:\")\n",
        "print(\"Accuracy scores:\", results_lr['mean_test_accuracy'])\n",
        "print(\"F1 scores:\", results_lr['mean_test_f1_score'])\n",
        "print(\"\\nBest Parameters for Logistic Regression based on F1:\", best_params_lr)\n",
        "\n",
        "print(\"-------------------------------------------------------------------\")\n",
        "\n",
        "print(\"\\nSVM Results:\")\n",
        "print(\"Accuracy scores:\", results_svm['mean_test_accuracy'])\n",
        "print(\"F1 scores:\", results_svm['mean_test_f1_score'])\n",
        "print(\"\\nBest Parameters for SVM based on F1:\", best_params_svm)\n"
      ]
    },
    {
      "cell_type": "code",
      "execution_count": 10,
      "metadata": {
        "id": "6L3Yx8PrCPyg"
      },
      "outputs": [
        {
          "data": {
            "text/html": [
              "<div>\n",
              "<style scoped>\n",
              "    .dataframe tbody tr th:only-of-type {\n",
              "        vertical-align: middle;\n",
              "    }\n",
              "\n",
              "    .dataframe tbody tr th {\n",
              "        vertical-align: top;\n",
              "    }\n",
              "\n",
              "    .dataframe thead th {\n",
              "        text-align: right;\n",
              "    }\n",
              "</style>\n",
              "<table border=\"1\" class=\"dataframe\">\n",
              "  <thead>\n",
              "    <tr style=\"text-align: right;\">\n",
              "      <th></th>\n",
              "      <th>Algorithm</th>\n",
              "      <th>Mean Test Accuracy</th>\n",
              "      <th>Test Accuracy</th>\n",
              "    </tr>\n",
              "  </thead>\n",
              "  <tbody>\n",
              "    <tr>\n",
              "      <th>0</th>\n",
              "      <td>Random Forest</td>\n",
              "      <td>[0.8371624713958811, 0.8231578947368423, 0.826...</td>\n",
              "      <td>0.745455</td>\n",
              "    </tr>\n",
              "    <tr>\n",
              "      <th>1</th>\n",
              "      <td>Logistic Regression</td>\n",
              "      <td>[0.7968726163234173, 0.7986270022883296, 0.807...</td>\n",
              "      <td>0.666667</td>\n",
              "    </tr>\n",
              "    <tr>\n",
              "      <th>2</th>\n",
              "      <td>SVM</td>\n",
              "      <td>[0.7916247139588101, 0.8056598016781082, 0.791...</td>\n",
              "      <td>0.730435</td>\n",
              "    </tr>\n",
              "  </tbody>\n",
              "</table>\n",
              "</div>"
            ],
            "text/plain": [
              "             Algorithm                                 Mean Test Accuracy  \\\n",
              "0        Random Forest  [0.8371624713958811, 0.8231578947368423, 0.826...   \n",
              "1  Logistic Regression  [0.7968726163234173, 0.7986270022883296, 0.807...   \n",
              "2                  SVM  [0.7916247139588101, 0.8056598016781082, 0.791...   \n",
              "\n",
              "   Test Accuracy  \n",
              "0       0.745455  \n",
              "1       0.666667  \n",
              "2       0.730435  "
            ]
          },
          "execution_count": 10,
          "metadata": {},
          "output_type": "execute_result"
        }
      ],
      "source": [
        "\n",
        "# Assuming you already have 'results_rf', 'results_lr', and 'results_svm' from your code\n",
        "# Extract the mean test accuracy and test accuracy scores\n",
        "mean_test_accuracy_rf = results_rf['mean_test_accuracy']\n",
        "mean_test_accuracy_lr = results_lr['mean_test_accuracy']\n",
        "mean_test_accuracy_svm = results_svm['mean_test_accuracy']\n",
        "\n",
        "test_accuracy_rf = grid_search_rf.score(X_test, y_test)\n",
        "test_accuracy_lr = grid_search_lr.score(X_test, y_test)\n",
        "test_accuracy_svm = grid_search_svm.score(X_test, y_test)\n",
        "\n",
        "# Create a dataframe for the heatmap\n",
        "\n",
        "data = {\n",
        "    'Algorithm': ['Random Forest', 'Logistic Regression', 'SVM'],\n",
        "    'Mean Test Accuracy': [mean_test_accuracy_rf, mean_test_accuracy_lr, mean_test_accuracy_svm],\n",
        "    'Test Accuracy': [test_accuracy_rf, test_accuracy_lr, test_accuracy_svm]\n",
        "}\n",
        "\n",
        "pd.DataFrame(data)\n"
      ]
    },
    {
      "cell_type": "markdown",
      "metadata": {
        "id": "CmeD_O2a_bsK"
      },
      "source": [
        "### Build a function with the code"
      ]
    },
    {
      "cell_type": "code",
      "execution_count": 11,
      "metadata": {
        "id": "JAUUqdoXcQzE"
      },
      "outputs": [
        {
          "name": "stdout",
          "output_type": "stream",
          "text": [
            "Model name: RF \n",
            "\n",
            "Test Accuracy: 0.7832167832167832\n",
            "Test F1 Score: 0.7155963302752294\n",
            "-----------------------------------\n",
            "Model name: LR \n",
            "\n",
            "Test Accuracy: 0.7482517482517482\n",
            "Test F1 Score: 0.6666666666666666\n",
            "-----------------------------------\n",
            "Model name: SVM \n",
            "\n",
            "Test Accuracy: 0.7832167832167832\n",
            "Test F1 Score: 0.7304347826086958\n",
            "-----------------------------------\n"
          ]
        }
      ],
      "source": [
        "def evaluate_classifier(name, pipeline, param_grid, scoring, X_train, y_train, X_test, y_test):\n",
        "\n",
        "    print(f'Model name: {name} \\n')\n",
        "    # Create a GridSearchCV instance for the pipeline\n",
        "    grid_search = GridSearchCV(pipeline, param_grid, cv=5, scoring=scoring, refit='f1_score')\n",
        "\n",
        "    # Fit the model\n",
        "    grid_search.fit(X_train, y_train)\n",
        "\n",
        "    # Make predictions on the test set\n",
        "    test_predictions = grid_search.predict(X_test)\n",
        "\n",
        "    # Calculate accuracy and F1 score on the test set\n",
        "    accuracy = accuracy_score(y_test, test_predictions)\n",
        "    f1 = f1_score(y_test, test_predictions)\n",
        "\n",
        "    # Print test results\n",
        "    print(\"Test Accuracy:\", accuracy)\n",
        "    print(\"Test F1 Score:\", f1)\n",
        "    print(\"-----------------------------------\")\n",
        "\n",
        "\n",
        "# Define parameter grids\n",
        "param_grid_rf = {\n",
        "    'classifier__n_estimators': [100, 200, 300],\n",
        "    'classifier__max_depth': [5, 10, 15]\n",
        "}\n",
        "\n",
        "# Call the function for Random Forest\n",
        "evaluate_classifier(\"RF\", rf_pipeline, param_grid_rf, scoring, X_train, y_train, X_test, y_test )\n",
        "\n",
        "# Example usage for Logistic Regression\n",
        "param_grid_lr = {\n",
        "    'classifier__C': [0.1, 1, 10],\n",
        "    'classifier__penalty': ['l1'],\n",
        "    'classifier__solver': ['liblinear', 'saga']\n",
        "}\n",
        "\n",
        "# Call the function for Logistic Regression\n",
        "evaluate_classifier(\"LR\", lr_pipeline, param_grid_lr, scoring, X_train, y_train, X_test, y_test )\n",
        "\n",
        "\n",
        "# Example usage for SVM\n",
        "param_grid_svm = {\n",
        "    'classifier__C': [0.1, 1, 10],\n",
        "    'classifier__kernel': ['linear', 'rbf']\n",
        "}\n",
        "\n",
        "# Call the function for SVM\n",
        "evaluate_classifier(\"SVM\", svm_pipeline, param_grid_svm, scoring, X_train, y_train, X_test, y_test )\n"
      ]
    },
    {
      "cell_type": "markdown",
      "metadata": {
        "id": "fsRY-4a--Inh"
      },
      "source": [
        "wandb and tracking the results - (Optional)"
      ]
    },
    {
      "cell_type": "code",
      "execution_count": 13,
      "metadata": {
        "id": "W9qqGJQEw4yr"
      },
      "outputs": [
        {
          "name": "stderr",
          "output_type": "stream",
          "text": [
            "Failed to detect the name of this notebook, you can set it manually with the WANDB_NOTEBOOK_NAME environment variable to enable code saving.\n",
            "\u001b[34m\u001b[1mwandb\u001b[0m: Logging into wandb.ai. (Learn how to deploy a W&B server locally: https://wandb.me/wandb-server)\n",
            "\u001b[34m\u001b[1mwandb\u001b[0m: You can find your API key in your browser here: https://wandb.ai/authorize\n",
            "\u001b[34m\u001b[1mwandb\u001b[0m: Paste an API key from your profile and hit enter, or press ctrl+c to quit:\u001b[34m\u001b[1mwandb\u001b[0m: Appending key for api.wandb.ai to your netrc file: /Users/lizhifan/.netrc\n"
          ]
        },
        {
          "data": {
            "text/html": [
              "Tracking run with wandb version 0.16.4"
            ],
            "text/plain": [
              "<IPython.core.display.HTML object>"
            ]
          },
          "metadata": {},
          "output_type": "display_data"
        },
        {
          "data": {
            "text/html": [
              "Run data is saved locally in <code>/Users/lizhifan/Desktop/ensf-ml/Lab6/wandb/run-20240308_144752-pu2mwu37</code>"
            ],
            "text/plain": [
              "<IPython.core.display.HTML object>"
            ]
          },
          "metadata": {},
          "output_type": "display_data"
        },
        {
          "data": {
            "text/html": [
              "Syncing run <strong><a href='https://wandb.ai/zhifanli2000/project_ENSF_611/runs/pu2mwu37' target=\"_blank\">rf</a></strong> to <a href='https://wandb.ai/zhifanli2000/project_ENSF_611' target=\"_blank\">Weights & Biases</a> (<a href='https://wandb.me/run' target=\"_blank\">docs</a>)<br/>"
            ],
            "text/plain": [
              "<IPython.core.display.HTML object>"
            ]
          },
          "metadata": {},
          "output_type": "display_data"
        },
        {
          "data": {
            "text/html": [
              " View project at <a href='https://wandb.ai/zhifanli2000/project_ENSF_611' target=\"_blank\">https://wandb.ai/zhifanli2000/project_ENSF_611</a>"
            ],
            "text/plain": [
              "<IPython.core.display.HTML object>"
            ]
          },
          "metadata": {},
          "output_type": "display_data"
        },
        {
          "data": {
            "text/html": [
              " View run at <a href='https://wandb.ai/zhifanli2000/project_ENSF_611/runs/pu2mwu37' target=\"_blank\">https://wandb.ai/zhifanli2000/project_ENSF_611/runs/pu2mwu37</a>"
            ],
            "text/plain": [
              "<IPython.core.display.HTML object>"
            ]
          },
          "metadata": {},
          "output_type": "display_data"
        },
        {
          "name": "stdout",
          "output_type": "stream",
          "text": [
            "Test Accuracy: 0.8041958041958042\n",
            "Test F1 Score: 0.7407407407407408\n"
          ]
        },
        {
          "data": {
            "text/html": [
              "Finishing last run (ID:pu2mwu37) before initializing another..."
            ],
            "text/plain": [
              "<IPython.core.display.HTML object>"
            ]
          },
          "metadata": {},
          "output_type": "display_data"
        },
        {
          "name": "stderr",
          "output_type": "stream",
          "text": [
            "wandb: WARNING Source type is set to 'repo' but some required information is missing from the environment. A job will not be created from this run. See https://docs.wandb.ai/guides/launch/create-job\n"
          ]
        },
        {
          "data": {
            "text/html": [
              "<style>\n",
              "    table.wandb td:nth-child(1) { padding: 0 10px; text-align: left ; width: auto;} td:nth-child(2) {text-align: left ; width: 100%}\n",
              "    .wandb-row { display: flex; flex-direction: row; flex-wrap: wrap; justify-content: flex-start; width: 100% }\n",
              "    .wandb-col { display: flex; flex-direction: column; flex-basis: 100%; flex: 1; padding: 10px; }\n",
              "    </style>\n",
              "<div class=\"wandb-row\"><div class=\"wandb-col\"><h3>Run history:</h3><br/><table class=\"wandb\"><tr><td>Best F1 Score</td><td>▁</td></tr><tr><td>Test Accuracy</td><td>▁</td></tr><tr><td>Test F1 Score</td><td>▁</td></tr></table><br/></div><div class=\"wandb-col\"><h3>Run summary:</h3><br/><table class=\"wandb\"><tr><td>Algorithm</td><td>rf</td></tr><tr><td>Best F1 Score</td><td>0.79251</td></tr><tr><td>Test Accuracy</td><td>0.8042</td></tr><tr><td>Test F1 Score</td><td>0.74074</td></tr></table><br/></div></div>"
            ],
            "text/plain": [
              "<IPython.core.display.HTML object>"
            ]
          },
          "metadata": {},
          "output_type": "display_data"
        },
        {
          "data": {
            "text/html": [
              " View run <strong style=\"color:#cdcd00\">rf</strong> at: <a href='https://wandb.ai/zhifanli2000/project_ENSF_611/runs/pu2mwu37' target=\"_blank\">https://wandb.ai/zhifanli2000/project_ENSF_611/runs/pu2mwu37</a><br/>Synced 6 W&B file(s), 0 media file(s), 0 artifact file(s) and 0 other file(s)"
            ],
            "text/plain": [
              "<IPython.core.display.HTML object>"
            ]
          },
          "metadata": {},
          "output_type": "display_data"
        },
        {
          "data": {
            "text/html": [
              "Find logs at: <code>./wandb/run-20240308_144752-pu2mwu37/logs</code>"
            ],
            "text/plain": [
              "<IPython.core.display.HTML object>"
            ]
          },
          "metadata": {},
          "output_type": "display_data"
        },
        {
          "data": {
            "text/html": [
              "Successfully finished last run (ID:pu2mwu37). Initializing new run:<br/>"
            ],
            "text/plain": [
              "<IPython.core.display.HTML object>"
            ]
          },
          "metadata": {},
          "output_type": "display_data"
        },
        {
          "data": {
            "text/html": [
              "Tracking run with wandb version 0.16.4"
            ],
            "text/plain": [
              "<IPython.core.display.HTML object>"
            ]
          },
          "metadata": {},
          "output_type": "display_data"
        },
        {
          "data": {
            "text/html": [
              "Run data is saved locally in <code>/Users/lizhifan/Desktop/ensf-ml/Lab6/wandb/run-20240308_144800-souyn3vh</code>"
            ],
            "text/plain": [
              "<IPython.core.display.HTML object>"
            ]
          },
          "metadata": {},
          "output_type": "display_data"
        },
        {
          "data": {
            "text/html": [
              "Syncing run <strong><a href='https://wandb.ai/zhifanli2000/project_ENSF_611/runs/souyn3vh' target=\"_blank\">lr</a></strong> to <a href='https://wandb.ai/zhifanli2000/project_ENSF_611' target=\"_blank\">Weights & Biases</a> (<a href='https://wandb.me/run' target=\"_blank\">docs</a>)<br/>"
            ],
            "text/plain": [
              "<IPython.core.display.HTML object>"
            ]
          },
          "metadata": {},
          "output_type": "display_data"
        },
        {
          "data": {
            "text/html": [
              " View project at <a href='https://wandb.ai/zhifanli2000/project_ENSF_611' target=\"_blank\">https://wandb.ai/zhifanli2000/project_ENSF_611</a>"
            ],
            "text/plain": [
              "<IPython.core.display.HTML object>"
            ]
          },
          "metadata": {},
          "output_type": "display_data"
        },
        {
          "data": {
            "text/html": [
              " View run at <a href='https://wandb.ai/zhifanli2000/project_ENSF_611/runs/souyn3vh' target=\"_blank\">https://wandb.ai/zhifanli2000/project_ENSF_611/runs/souyn3vh</a>"
            ],
            "text/plain": [
              "<IPython.core.display.HTML object>"
            ]
          },
          "metadata": {},
          "output_type": "display_data"
        },
        {
          "name": "stdout",
          "output_type": "stream",
          "text": [
            "Test Accuracy: 0.7482517482517482\n",
            "Test F1 Score: 0.6666666666666666\n"
          ]
        },
        {
          "data": {
            "text/html": [
              "Finishing last run (ID:souyn3vh) before initializing another..."
            ],
            "text/plain": [
              "<IPython.core.display.HTML object>"
            ]
          },
          "metadata": {},
          "output_type": "display_data"
        },
        {
          "name": "stderr",
          "output_type": "stream",
          "text": [
            "wandb: WARNING Source type is set to 'repo' but some required information is missing from the environment. A job will not be created from this run. See https://docs.wandb.ai/guides/launch/create-job\n"
          ]
        },
        {
          "data": {
            "text/html": [
              "<style>\n",
              "    table.wandb td:nth-child(1) { padding: 0 10px; text-align: left ; width: auto;} td:nth-child(2) {text-align: left ; width: 100%}\n",
              "    .wandb-row { display: flex; flex-direction: row; flex-wrap: wrap; justify-content: flex-start; width: 100% }\n",
              "    .wandb-col { display: flex; flex-direction: column; flex-basis: 100%; flex: 1; padding: 10px; }\n",
              "    </style>\n",
              "<div class=\"wandb-row\"><div class=\"wandb-col\"><h3>Run history:</h3><br/><table class=\"wandb\"><tr><td>Best F1 Score</td><td>▁</td></tr><tr><td>Test Accuracy</td><td>▁</td></tr><tr><td>Test F1 Score</td><td>▁</td></tr></table><br/></div><div class=\"wandb-col\"><h3>Run summary:</h3><br/><table class=\"wandb\"><tr><td>Algorithm</td><td>lr</td></tr><tr><td>Best F1 Score</td><td>0.76419</td></tr><tr><td>Test Accuracy</td><td>0.74825</td></tr><tr><td>Test F1 Score</td><td>0.66667</td></tr></table><br/></div></div>"
            ],
            "text/plain": [
              "<IPython.core.display.HTML object>"
            ]
          },
          "metadata": {},
          "output_type": "display_data"
        },
        {
          "data": {
            "text/html": [
              " View run <strong style=\"color:#cdcd00\">lr</strong> at: <a href='https://wandb.ai/zhifanli2000/project_ENSF_611/runs/souyn3vh' target=\"_blank\">https://wandb.ai/zhifanli2000/project_ENSF_611/runs/souyn3vh</a><br/>Synced 6 W&B file(s), 0 media file(s), 0 artifact file(s) and 0 other file(s)"
            ],
            "text/plain": [
              "<IPython.core.display.HTML object>"
            ]
          },
          "metadata": {},
          "output_type": "display_data"
        },
        {
          "data": {
            "text/html": [
              "Find logs at: <code>./wandb/run-20240308_144800-souyn3vh/logs</code>"
            ],
            "text/plain": [
              "<IPython.core.display.HTML object>"
            ]
          },
          "metadata": {},
          "output_type": "display_data"
        },
        {
          "data": {
            "text/html": [
              "Successfully finished last run (ID:souyn3vh). Initializing new run:<br/>"
            ],
            "text/plain": [
              "<IPython.core.display.HTML object>"
            ]
          },
          "metadata": {},
          "output_type": "display_data"
        },
        {
          "data": {
            "text/html": [
              "Tracking run with wandb version 0.16.4"
            ],
            "text/plain": [
              "<IPython.core.display.HTML object>"
            ]
          },
          "metadata": {},
          "output_type": "display_data"
        },
        {
          "data": {
            "text/html": [
              "Run data is saved locally in <code>/Users/lizhifan/Desktop/ensf-ml/Lab6/wandb/run-20240308_144808-ecordc0e</code>"
            ],
            "text/plain": [
              "<IPython.core.display.HTML object>"
            ]
          },
          "metadata": {},
          "output_type": "display_data"
        },
        {
          "data": {
            "text/html": [
              "Syncing run <strong><a href='https://wandb.ai/zhifanli2000/project_ENSF_611/runs/ecordc0e' target=\"_blank\">svm</a></strong> to <a href='https://wandb.ai/zhifanli2000/project_ENSF_611' target=\"_blank\">Weights & Biases</a> (<a href='https://wandb.me/run' target=\"_blank\">docs</a>)<br/>"
            ],
            "text/plain": [
              "<IPython.core.display.HTML object>"
            ]
          },
          "metadata": {},
          "output_type": "display_data"
        },
        {
          "data": {
            "text/html": [
              " View project at <a href='https://wandb.ai/zhifanli2000/project_ENSF_611' target=\"_blank\">https://wandb.ai/zhifanli2000/project_ENSF_611</a>"
            ],
            "text/plain": [
              "<IPython.core.display.HTML object>"
            ]
          },
          "metadata": {},
          "output_type": "display_data"
        },
        {
          "data": {
            "text/html": [
              " View run at <a href='https://wandb.ai/zhifanli2000/project_ENSF_611/runs/ecordc0e' target=\"_blank\">https://wandb.ai/zhifanli2000/project_ENSF_611/runs/ecordc0e</a>"
            ],
            "text/plain": [
              "<IPython.core.display.HTML object>"
            ]
          },
          "metadata": {},
          "output_type": "display_data"
        },
        {
          "name": "stdout",
          "output_type": "stream",
          "text": [
            "Test Accuracy: 0.7832167832167832\n",
            "Test F1 Score: 0.7304347826086958\n"
          ]
        },
        {
          "name": "stderr",
          "output_type": "stream",
          "text": [
            "wandb: Network error (ConnectionError), entering retry loop.\n"
          ]
        }
      ],
      "source": [
        "import wandb\n",
        "\n",
        "# Define parameter grids\n",
        "param_grid_rf = {\n",
        "    'classifier__n_estimators': [100, 200, 300],\n",
        "    'classifier__max_depth': [5, 10, 15]\n",
        "}\n",
        "\n",
        "param_grid_lr = {\n",
        "    'classifier__C': [0.1, 1, 10],\n",
        "    'classifier__penalty': ['l1'],\n",
        "    'classifier__solver': ['liblinear', 'saga']\n",
        "}\n",
        "\n",
        "param_grid_svm = {\n",
        "    'classifier__C': [0.1, 1, 10],\n",
        "    'classifier__kernel': ['linear', 'rbf']\n",
        "}\n",
        "\n",
        "# Define the scoring metrics you want to use\n",
        "scoring = {\n",
        "    'accuracy': make_scorer(accuracy_score),\n",
        "    'f1_score': make_scorer(f1_score)\n",
        "}\n",
        "\n",
        "# Create pipelines for each algorithm with StandardScaler\n",
        "rf_pipeline = Pipeline([\n",
        "    ('scaler', StandardScaler()),\n",
        "    ('classifier', RandomForestClassifier())\n",
        "])\n",
        "\n",
        "lr_pipeline = Pipeline([\n",
        "    ('scaler', StandardScaler()),\n",
        "    ('classifier', LogisticRegression())\n",
        "])\n",
        "\n",
        "svm_pipeline = Pipeline([\n",
        "    ('scaler', StandardScaler()),\n",
        "    ('classifier', SVC())\n",
        "])\n",
        "\n",
        "def evaluate_classifier(name, pipeline, param_grid, scoring, X_train, y_train, X_test, y_test):\n",
        "\n",
        "\n",
        "    # Initialize W&B\n",
        "    wandb.init(name=name, project='project_ENSF_611')\n",
        "\n",
        "\n",
        "    # Create a GridSearchCV instance for the pipeline\n",
        "    grid_search = GridSearchCV(pipeline, param_grid, cv=5, scoring=scoring, refit='f1_score')\n",
        "\n",
        "    # Fit the model\n",
        "    grid_search.fit(X_train, y_train)\n",
        "\n",
        "    # Log the results to W&B\n",
        "    wandb.log({'Algorithm': name})\n",
        "    wandb.log({\"Best F1 Score\": grid_search.best_score_})\n",
        "    wandb.log({\"Best Parameters\": grid_search.best_params_})\n",
        "\n",
        "    # Make predictions on the test set\n",
        "    test_predictions = grid_search.predict(X_test)\n",
        "\n",
        "    # Calculate accuracy and F1 score on the test set\n",
        "    accuracy = accuracy_score(y_test, test_predictions)\n",
        "    f1 = f1_score(y_test, test_predictions)\n",
        "\n",
        "    # Log test results to W&B\n",
        "    wandb.log({\"Test Accuracy\": accuracy})\n",
        "    wandb.log({\"Test F1 Score\": f1})\n",
        "\n",
        "    # Print test results\n",
        "    print(\"Test Accuracy:\", accuracy)\n",
        "    print(\"Test F1 Score:\", f1)\n",
        "\n",
        "# Example usage for Random Forest\n",
        "param_grid_rf = {\n",
        "    'classifier__n_estimators': [100, 200, 300],\n",
        "    'classifier__max_depth': [5, 10, 15]\n",
        "}\n",
        "\n",
        "# Call the function for Random Forest\n",
        "evaluate_classifier('rf', rf_pipeline, param_grid_rf, scoring, X_train, y_train, X_test, y_test)\n",
        "\n",
        "# Example usage for Logistic Regression\n",
        "param_grid_lr = {\n",
        "    'classifier__C': [0.1, 1, 10],\n",
        "    'classifier__penalty': ['l1'],\n",
        "    'classifier__solver': ['liblinear', 'saga']\n",
        "}\n",
        "\n",
        "# Call the function for Logistic Regression\n",
        "evaluate_classifier('lr' ,lr_pipeline, param_grid_lr, scoring, X_train, y_train, X_test, y_test)\n",
        "\n",
        "# Example usage for SVM\n",
        "param_grid_svm = {\n",
        "    'classifier__C': [0.1, 1, 10],\n",
        "    'classifier__kernel': ['linear', 'rbf']\n",
        "}\n",
        "\n",
        "# Call the function for SVM\n",
        "evaluate_classifier('svm', svm_pipeline, param_grid_svm, scoring, X_train, y_train, X_test, y_test)\n"
      ]
    }
  ],
  "metadata": {
    "colab": {
      "provenance": []
    },
    "kernelspec": {
      "display_name": "Python 3",
      "name": "python3"
    },
    "language_info": {
      "codemirror_mode": {
        "name": "ipython",
        "version": 3
      },
      "file_extension": ".py",
      "mimetype": "text/x-python",
      "name": "python",
      "nbconvert_exporter": "python",
      "pygments_lexer": "ipython3",
      "version": "3.8.18"
    }
  },
  "nbformat": 4,
  "nbformat_minor": 0
}
